{
 "cells": [
  {
   "cell_type": "markdown",
   "metadata": {},
   "source": [
    "# Capstone Project: Create a Customer Segmentation Report for Arvato Financial Services\n",
    "\n",
    "In this project, you will analyze demographics data for customers of a mail-order sales company in Germany, comparing it against demographics information for the general population. You'll use unsupervised learning techniques to perform customer segmentation, identifying the parts of the population that best describe the core customer base of the company. Then, you'll apply what you've learned on a third dataset with demographics information for targets of a marketing campaign for the company, and use a model to predict which individuals are most likely to convert into becoming customers for the company. The data that you will use has been provided by our partners at Bertelsmann Arvato Analytics, and represents a real-life data science task.\n",
    "\n",
    "If you completed the first term of this program, you will be familiar with the first part of this project, from the unsupervised learning project. The versions of those two datasets used in this project will include many more features and has not been pre-cleaned. You are also free to choose whatever approach you'd like to analyzing the data rather than follow pre-determined steps. In your work on this project, make sure that you carefully document your steps and decisions, since your main deliverable for this project will be a blog post reporting your findings."
   ]
  },
  {
   "cell_type": "code",
   "execution_count": 1,
   "metadata": {
    "scrolled": false
   },
   "outputs": [
    {
     "name": "stdout",
     "output_type": "stream",
     "text": [
      "Collecting matplotlib-venn\n",
      "\u001b[?25l  Downloading https://files.pythonhosted.org/packages/c7/05/e084c8331ff7ab8b0e01c7cdb7c18854852340bf3096193510c902ffa1f1/matplotlib-venn-0.11.5.zip (40kB)\n",
      "\u001b[K    100% |████████████████████████████████| 40kB 2.9MB/s ta 0:00:011\n",
      "\u001b[?25hRequirement already satisfied: matplotlib in /opt/conda/lib/python3.6/site-packages (from matplotlib-venn) (2.1.0)\n",
      "Requirement already satisfied: numpy in /opt/conda/lib/python3.6/site-packages (from matplotlib-venn) (1.12.1)\n",
      "Requirement already satisfied: scipy in /opt/conda/lib/python3.6/site-packages (from matplotlib-venn) (1.2.1)\n",
      "Requirement already satisfied: six>=1.10 in /opt/conda/lib/python3.6/site-packages (from matplotlib->matplotlib-venn) (1.11.0)\n",
      "Requirement already satisfied: python-dateutil>=2.0 in /opt/conda/lib/python3.6/site-packages (from matplotlib->matplotlib-venn) (2.6.1)\n",
      "Requirement already satisfied: pytz in /opt/conda/lib/python3.6/site-packages (from matplotlib->matplotlib-venn) (2017.3)\n",
      "Requirement already satisfied: cycler>=0.10 in /opt/conda/lib/python3.6/site-packages/cycler-0.10.0-py3.6.egg (from matplotlib->matplotlib-venn) (0.10.0)\n",
      "Requirement already satisfied: pyparsing!=2.0.4,!=2.1.2,!=2.1.6,>=2.0.1 in /opt/conda/lib/python3.6/site-packages (from matplotlib->matplotlib-venn) (2.2.0)\n",
      "Building wheels for collected packages: matplotlib-venn\n",
      "  Running setup.py bdist_wheel for matplotlib-venn ... \u001b[?25ldone\n",
      "\u001b[?25h  Stored in directory: /root/.cache/pip/wheels/d8/88/2f/e41518cb16e58109e8d14dc5dd7ef8166c82dce86c7c6d6c80\n",
      "Successfully built matplotlib-venn\n",
      "Installing collected packages: matplotlib-venn\n",
      "Successfully installed matplotlib-venn-0.11.5\n",
      "Collecting scikit-optimize\n",
      "\u001b[?25l  Downloading https://files.pythonhosted.org/packages/5c/87/310b52debfbc0cb79764e5770fa3f5c18f6f0754809ea9e2fc185e1b67d3/scikit_optimize-0.7.4-py2.py3-none-any.whl (80kB)\n",
      "\u001b[K    100% |████████████████████████████████| 81kB 3.7MB/s ta 0:00:011\n",
      "\u001b[?25hCollecting pyaml>=16.9 (from scikit-optimize)\n",
      "  Downloading https://files.pythonhosted.org/packages/15/c4/1310a054d33abc318426a956e7d6df0df76a6ddfa9c66f6310274fb75d42/pyaml-20.4.0-py2.py3-none-any.whl\n",
      "Requirement already satisfied: numpy>=1.11.0 in /opt/conda/lib/python3.6/site-packages (from scikit-optimize) (1.12.1)\n",
      "Requirement already satisfied: scikit-learn>=0.19.1 in /opt/conda/lib/python3.6/site-packages (from scikit-optimize) (0.19.1)\n",
      "Requirement already satisfied: joblib>=0.11 in /opt/conda/lib/python3.6/site-packages (from scikit-optimize) (0.11)\n",
      "Requirement already satisfied: scipy>=0.18.0 in /opt/conda/lib/python3.6/site-packages (from scikit-optimize) (1.2.1)\n",
      "Requirement already satisfied: PyYAML in /opt/conda/lib/python3.6/site-packages (from pyaml>=16.9->scikit-optimize) (3.12)\n",
      "Installing collected packages: pyaml, scikit-optimize\n",
      "Successfully installed pyaml-20.4.0 scikit-optimize-0.7.4\n",
      "Collecting utils\n",
      "  Downloading https://files.pythonhosted.org/packages/55/e6/c2d2b2703e7debc8b501caae0e6f7ead148fd0faa3c8131292a599930029/utils-1.0.1-py2.py3-none-any.whl\n",
      "Installing collected packages: utils\n",
      "Successfully installed utils-1.0.1\n",
      "Collecting lightgbm\n",
      "\u001b[?25l  Downloading https://files.pythonhosted.org/packages/0b/9d/ddcb2f43aca194987f1a99e27edf41cf9bc39ea750c3371c2a62698c509a/lightgbm-2.3.1-py2.py3-none-manylinux1_x86_64.whl (1.2MB)\n",
      "\u001b[K    100% |████████████████████████████████| 1.2MB 11.0MB/s ta 0:00:01\n",
      "\u001b[?25hRequirement already satisfied: numpy in /opt/conda/lib/python3.6/site-packages (from lightgbm) (1.12.1)\n",
      "Requirement already satisfied: scikit-learn in /opt/conda/lib/python3.6/site-packages (from lightgbm) (0.19.1)\n",
      "Requirement already satisfied: scipy in /opt/conda/lib/python3.6/site-packages (from lightgbm) (1.2.1)\n",
      "Installing collected packages: lightgbm\n",
      "Successfully installed lightgbm-2.3.1\n",
      "Collecting xgboost\n",
      "\u001b[?25l  Downloading https://files.pythonhosted.org/packages/70/91/551d37ba472bcbd70a25e667acc65a18a9d053657b13afcf0f87aa24d7bb/xgboost-1.0.2-py3-none-manylinux1_x86_64.whl (109.7MB)\n",
      "\u001b[K    100% |████████████████████████████████| 109.8MB 338kB/s eta 0:00:01 1% |▍                               | 1.3MB 16.2MB/s eta 0:00:07    2% |█                               | 3.1MB 26.8MB/s eta 0:00:04    3% |█▎                              | 4.3MB 31.9MB/s eta 0:00:04    9% |███                             | 10.6MB 33.9MB/s eta 0:00:03    10% |███▌                            | 12.0MB 31.6MB/s eta 0:00:04    12% |████                            | 13.5MB 31.5MB/s eta 0:00:04    15% |████▉                           | 16.7MB 32.4MB/s eta 0:00:03    22% |███████                         | 24.2MB 29.9MB/s eta 0:00:03    23% |███████▌                        | 25.7MB 29.9MB/s eta 0:00:03    33% |██████████▊                     | 36.7MB 27.1MB/s eta 0:00:03    36% |███████████▉                    | 40.5MB 26.5MB/s eta 0:00:03    43% |██████████████                  | 48.3MB 26.1MB/s eta 0:00:03    45% |██████████████▌                 | 49.6MB 24.7MB/s eta 0:00:03    46% |██████████████▉                 | 50.9MB 28.1MB/s eta 0:00:03    47% |███████████████▏                | 52.2MB 26.1MB/s eta 0:00:03    51% |████████████████▍               | 56.1MB 24.6MB/s eta 0:00:03    53% |█████████████████               | 58.6MB 26.4MB/s eta 0:00:02    55% |█████████████████▊              | 60.9MB 23.7MB/s eta 0:00:03    56% |██████████████████▏             | 62.2MB 25.8MB/s eta 0:00:02    57% |██████████████████▌             | 63.3MB 26.7MB/s eta 0:00:02    60% |███████████████████▌            | 66.8MB 24.6MB/s eta 0:00:02    62% |████████████████████▏           | 69.1MB 22.3MB/s eta 0:00:02    67% |█████████████████████▌          | 73.8MB 24.7MB/s eta 0:00:02    68% |█████████████████████▉          | 74.8MB 20.9MB/s eta 0:00:02    70% |██████████████████████▋         | 77.7MB 22.1MB/s eta 0:00:02    72% |███████████████████████▎        | 80.0MB 21.8MB/s eta 0:00:02    73% |███████████████████████▋        | 81.1MB 23.9MB/s eta 0:00:02    74% |████████████████████████        | 82.2MB 23.9MB/s eta 0:00:02    76% |████████████████████████▍       | 83.5MB 26.5MB/s eta 0:00:01    78% |█████████████████████████       | 85.8MB 25.8MB/s eta 0:00:01    79% |█████████████████████████▍      | 87.1MB 24.4MB/s eta 0:00:01    82% |██████████████████████████▍     | 90.5MB 24.7MB/s eta 0:00:01    83% |██████████████████████████▊     | 91.7MB 22.4MB/s eta 0:00:01    84% |███████████████████████████     | 92.8MB 22.6MB/s eta 0:00:01    85% |███████████████████████████▍    | 93.9MB 23.2MB/s eta 0:00:01    87% |████████████████████████████    | 96.1MB 29.7MB/s eta 0:00:01    89% |████████████████████████████▋   | 98.3MB 28.3MB/s eta 0:00:01    91% |█████████████████████████████▎  | 100.6MB 28.0MB/s eta 0:00:01    93% |██████████████████████████████  | 102.9MB 24.5MB/s eta 0:00:01    94% |██████████████████████████████▎ | 104.0MB 21.3MB/s eta 0:00:01    96% |███████████████████████████████ | 106.2MB 28.2MB/s eta 0:00:01    97% |███████████████████████████████▍| 107.5MB 13.3MB/s eta 0:00:01\n",
      "\u001b[?25hRequirement already satisfied: numpy in /opt/conda/lib/python3.6/site-packages (from xgboost) (1.12.1)\n",
      "Requirement already satisfied: scipy in /opt/conda/lib/python3.6/site-packages (from xgboost) (1.2.1)\n",
      "Installing collected packages: xgboost\n",
      "Successfully installed xgboost-1.0.2\n"
     ]
    }
   ],
   "source": [
    "!pip install matplotlib-venn\n",
    "!pip install scikit-optimize\n",
    "!pip install utils\n",
    "!pip install lightgbm\n",
    "!pip install xgboost"
   ]
  },
  {
   "cell_type": "code",
   "execution_count": 2,
   "metadata": {},
   "outputs": [],
   "source": [
    "# import libraries here; add more as necessary\n",
    "import numpy as np\n",
    "import pandas as pd\n",
    "import matplotlib.pyplot as plt\n",
    "import seaborn as sns\n",
    "import pickle\n",
    "\n",
    "#imports to help me plot my venn diagrams\n",
    "import matplotlib_venn as venn2\n",
    "from matplotlib_venn import venn2\n",
    "from pylab import rcParams\n",
    "\n",
    "# import the util.py file where I define my functions\n",
    "from utils import *\n",
    "\n",
    "# sklearn\n",
    "from sklearn.preprocessing import StandardScaler, RobustScaler, MinMaxScaler, LabelEncoder\n",
    "#from sklearn.impute import SimpleImputer\n",
    "from sklearn.decomposition import PCA\n",
    "from sklearn.cluster import KMeans\n",
    "from sklearn.ensemble import RandomForestClassifier\n",
    "from sklearn.model_selection import GridSearchCV, train_test_split\n",
    "from sklearn.metrics import confusion_matrix,precision_recall_fscore_support\n",
    "from sklearn.utils.multiclass import unique_labels\n",
    "from sklearn.linear_model import LinearRegression\n",
    "from sklearn.model_selection import train_test_split, StratifiedKFold, cross_val_score, RandomizedSearchCV, GridSearchCV\n",
    "from sklearn.metrics import roc_auc_score\n",
    "from sklearn.pipeline import Pipeline\n",
    "from sklearn.ensemble import RandomForestClassifier\n",
    "from sklearn.ensemble import GradientBoostingClassifier as gbm\n",
    "from sklearn.linear_model import LogisticRegression\n",
    "from sklearn.neural_network import MLPClassifier\n",
    "from sklearn.model_selection import StratifiedKFold, learning_curve\n",
    "\n",
    "import xgboost as xgb\n",
    "import lightgbm as lgb\n",
    "\n",
    "import skopt\n",
    "from skopt import BayesSearchCV\n",
    "class BayesSearchCV(BayesSearchCV):\n",
    "    def _run_search(self, x): raise BaseException('Use newer skopt')\n",
    "\n",
    "# magic word for producing visualizations in notebook\n",
    "%matplotlib inline"
   ]
  },
  {
   "cell_type": "markdown",
   "metadata": {},
   "source": [
    "## Part 0: Get to Know the Data\n",
    "\n",
    "There are four data files associated with this project:\n",
    "\n",
    "- `Udacity_AZDIAS_052018.csv`: Demographics data for the general population of Germany; 891 211 persons (rows) x 366 features (columns).\n",
    "- `Udacity_CUSTOMERS_052018.csv`: Demographics data for customers of a mail-order company; 191 652 persons (rows) x 369 features (columns).\n",
    "- `Udacity_MAILOUT_052018_TRAIN.csv`: Demographics data for individuals who were targets of a marketing campaign; 42 982 persons (rows) x 367 (columns).\n",
    "- `Udacity_MAILOUT_052018_TEST.csv`: Demographics data for individuals who were targets of a marketing campaign; 42 833 persons (rows) x 366 (columns).\n",
    "\n",
    "Each row of the demographics files represents a single person, but also includes information outside of individuals, including information about their household, building, and neighborhood. Use the information from the first two files to figure out how customers (\"CUSTOMERS\") are similar to or differ from the general population at large (\"AZDIAS\"), then use your analysis to make predictions on the other two files (\"MAILOUT\"), predicting which recipients are most likely to become a customer for the mail-order company.\n",
    "\n",
    "The \"CUSTOMERS\" file contains three extra columns ('CUSTOMER_GROUP', 'ONLINE_PURCHASE', and 'PRODUCT_GROUP'), which provide broad information about the customers depicted in the file. The original \"MAILOUT\" file included one additional column, \"RESPONSE\", which indicated whether or not each recipient became a customer of the company. For the \"TRAIN\" subset, this column has been retained, but in the \"TEST\" subset it has been removed; it is against that withheld column that your final predictions will be assessed in the Kaggle competition.\n",
    "\n",
    "Otherwise, all of the remaining columns are the same between the three data files. For more information about the columns depicted in the files, you can refer to two Excel spreadsheets provided in the workspace. [One of them](./DIAS Information Levels - Attributes 2017.xlsx) is a top-level list of attributes and descriptions, organized by informational category. [The other](./DIAS Attributes - Values 2017.xlsx) is a detailed mapping of data values for each feature in alphabetical order.\n",
    "\n",
    "In the below cell, we've provided some initial code to load in the first two datasets. Note for all of the `.csv` data files in this project that they're semicolon (`;`) delimited, so an additional argument in the [`read_csv()`](https://pandas.pydata.org/pandas-docs/stable/generated/pandas.read_csv.html) call has been included to read in the data properly. Also, considering the size of the datasets, it may take some time for them to load completely.\n",
    "\n",
    "You'll notice when the data is loaded in that a warning message will immediately pop up. Before you really start digging into the modeling and analysis, you're going to need to perform some cleaning. Take some time to browse the structure of the data and look over the informational spreadsheets to understand the data values. Make some decisions on which features to keep, which features to drop, and if any revisions need to be made on data formats. It'll be a good idea to create a function with pre-processing steps, since you'll need to clean all of the datasets before you work with them."
   ]
  },
  {
   "cell_type": "code",
   "execution_count": 3,
   "metadata": {
    "scrolled": true
   },
   "outputs": [
    {
     "name": "stderr",
     "output_type": "stream",
     "text": [
      "/opt/conda/lib/python3.6/site-packages/IPython/core/interactiveshell.py:2785: DtypeWarning: Columns (18,19) have mixed types. Specify dtype option on import or set low_memory=False.\n",
      "  interactivity=interactivity, compiler=compiler, result=result)\n"
     ]
    }
   ],
   "source": [
    "# load in the data\n",
    "azdias = pd.read_csv('../../data/Term2/capstone/arvato_data/Udacity_AZDIAS_052018.csv', sep=';')\n",
    "customers = pd.read_csv('../../data/Term2/capstone/arvato_data/Udacity_CUSTOMERS_052018.csv', sep=';')\n",
    "dias_attributes = pd.read_excel('DIAS Attributes - Values 2017.xlsx')\n",
    "dias_info_levels = pd.read_excel('DIAS Information Levels - Attributes 2017.xlsx')"
   ]
  },
  {
   "cell_type": "markdown",
   "metadata": {},
   "source": [
    "Columns 18 and 19 have mixed data types. This calls for further investigation."
   ]
  },
  {
   "cell_type": "code",
   "execution_count": 4,
   "metadata": {},
   "outputs": [
    {
     "name": "stdout",
     "output_type": "stream",
     "text": [
      "Index(['CAMEO_INTL_2015', 'CJT_GESAMTTYP'], dtype='object')\n",
      "Index(['CAMEO_INTL_2015', 'CJT_GESAMTTYP'], dtype='object')\n"
     ]
    }
   ],
   "source": [
    "print(azdias.iloc[:,19:21].columns)\n",
    "print(customers.iloc[:,19:21].columns)"
   ]
  },
  {
   "cell_type": "code",
   "execution_count": 5,
   "metadata": {},
   "outputs": [
    {
     "data": {
      "text/plain": [
       "array([nan, 51.0, 24.0, 12.0, 43.0, 54.0, 22.0, 14.0, 13.0, 15.0, 33.0,\n",
       "       41.0, 34.0, 55.0, 25.0, 23.0, 31.0, 52.0, 35.0, 45.0, 44.0, 32.0,\n",
       "       '22', '24', '41', '12', '54', '51', '44', '35', '23', '25', '14',\n",
       "       '34', '52', '55', '31', '32', '15', '13', '43', '33', '45', 'XX'], dtype=object)"
      ]
     },
     "execution_count": 5,
     "metadata": {},
     "output_type": "execute_result"
    }
   ],
   "source": [
    "azdias.CAMEO_INTL_2015.unique()"
   ]
  },
  {
   "cell_type": "code",
   "execution_count": 6,
   "metadata": {},
   "outputs": [
    {
     "data": {
      "text/plain": [
       "array([  2.,   5.,   3.,   4.,   1.,   6.,  nan])"
      ]
     },
     "execution_count": 6,
     "metadata": {},
     "output_type": "execute_result"
    }
   ],
   "source": [
    "azdias.CJT_GESAMTTYP.unique()"
   ]
  },
  {
   "cell_type": "code",
   "execution_count": 7,
   "metadata": {},
   "outputs": [
    {
     "data": {
      "text/plain": [
       "array([13.0, nan, 34.0, 24.0, 41.0, 23.0, 15.0, 55.0, 14.0, 22.0, 43.0,\n",
       "       51.0, 33.0, 25.0, 44.0, 54.0, 32.0, 12.0, 35.0, 31.0, 45.0, 52.0,\n",
       "       '45', '25', '55', '51', '14', '54', '43', '22', '15', '24', '35',\n",
       "       '23', '12', '44', '41', '52', '31', '13', '34', '32', '33', 'XX'], dtype=object)"
      ]
     },
     "execution_count": 7,
     "metadata": {},
     "output_type": "execute_result"
    }
   ],
   "source": [
    "customers.CAMEO_INTL_2015.unique()"
   ]
  },
  {
   "cell_type": "markdown",
   "metadata": {},
   "source": [
    "The two colums have string values i.e \"XX\""
   ]
  },
  {
   "cell_type": "markdown",
   "metadata": {},
   "source": []
  },
  {
   "cell_type": "code",
   "execution_count": 8,
   "metadata": {},
   "outputs": [],
   "source": [
    "def datatype_fix(df):\n",
    "    '''\n",
    "    Fix the X and XX in cameo columns by replacing it with nan\n",
    "    Args\n",
    "        df (df): demographic dataframe\n",
    "    returns \n",
    "        (df): dataframe with X or XX replaced with nan\n",
    "    '''\n",
    "\n",
    "    cols = ['CAMEO_DEUG_2015', 'CAMEO_INTL_2015']\n",
    "    df[cols] = df[cols].replace({'XX': np.nan, 'X':np.nan})\n",
    "    df[cols] = df[cols].astype(float)\n",
    "       \n",
    "    return df"
   ]
  },
  {
   "cell_type": "code",
   "execution_count": 9,
   "metadata": {},
   "outputs": [],
   "source": [
    "azdias = datatype_fix(azdias)\n",
    "customers = datatype_fix(customers)"
   ]
  },
  {
   "cell_type": "code",
   "execution_count": null,
   "metadata": {},
   "outputs": [],
   "source": []
  },
  {
   "cell_type": "code",
   "execution_count": null,
   "metadata": {},
   "outputs": [],
   "source": []
  },
  {
   "cell_type": "code",
   "execution_count": null,
   "metadata": {},
   "outputs": [],
   "source": []
  },
  {
   "cell_type": "code",
   "execution_count": null,
   "metadata": {},
   "outputs": [],
   "source": []
  },
  {
   "cell_type": "code",
   "execution_count": 10,
   "metadata": {},
   "outputs": [
    {
     "name": "stdout",
     "output_type": "stream",
     "text": [
      "azdias data frame has 891221 rows and 366 colums\n",
      "customers data frame has 191652 rows and 369 colums\n"
     ]
    }
   ],
   "source": [
    "print('azdias data frame has {} rows and {} colums'.format(azdias.shape[0],azdias.shape[1],))\n",
    "print('customers data frame has {} rows and {} colums'.format(customers.shape[0], customers.shape[1]))\n"
   ]
  },
  {
   "cell_type": "markdown",
   "metadata": {},
   "source": [
    "The customers data has 3 more columns compared to the Azdias data. We nee to figure out which ones these are."
   ]
  },
  {
   "cell_type": "code",
   "execution_count": null,
   "metadata": {},
   "outputs": [],
   "source": []
  },
  {
   "cell_type": "code",
   "execution_count": 11,
   "metadata": {
    "scrolled": false
   },
   "outputs": [
    {
     "data": {
      "text/html": [
       "<div>\n",
       "<style scoped>\n",
       "    .dataframe tbody tr th:only-of-type {\n",
       "        vertical-align: middle;\n",
       "    }\n",
       "\n",
       "    .dataframe tbody tr th {\n",
       "        vertical-align: top;\n",
       "    }\n",
       "\n",
       "    .dataframe thead th {\n",
       "        text-align: right;\n",
       "    }\n",
       "</style>\n",
       "<table border=\"1\" class=\"dataframe\">\n",
       "  <thead>\n",
       "    <tr style=\"text-align: right;\">\n",
       "      <th></th>\n",
       "      <th>LNR</th>\n",
       "      <th>AGER_TYP</th>\n",
       "      <th>AKT_DAT_KL</th>\n",
       "      <th>ALTER_HH</th>\n",
       "      <th>ALTER_KIND1</th>\n",
       "      <th>ALTER_KIND2</th>\n",
       "      <th>ALTER_KIND3</th>\n",
       "      <th>ALTER_KIND4</th>\n",
       "      <th>ALTERSKATEGORIE_FEIN</th>\n",
       "      <th>ANZ_HAUSHALTE_AKTIV</th>\n",
       "      <th>...</th>\n",
       "      <th>VHN</th>\n",
       "      <th>VK_DHT4A</th>\n",
       "      <th>VK_DISTANZ</th>\n",
       "      <th>VK_ZG11</th>\n",
       "      <th>W_KEIT_KIND_HH</th>\n",
       "      <th>WOHNDAUER_2008</th>\n",
       "      <th>WOHNLAGE</th>\n",
       "      <th>ZABEOTYP</th>\n",
       "      <th>ANREDE_KZ</th>\n",
       "      <th>ALTERSKATEGORIE_GROB</th>\n",
       "    </tr>\n",
       "  </thead>\n",
       "  <tbody>\n",
       "    <tr>\n",
       "      <th>0</th>\n",
       "      <td>910215</td>\n",
       "      <td>-1</td>\n",
       "      <td>NaN</td>\n",
       "      <td>NaN</td>\n",
       "      <td>NaN</td>\n",
       "      <td>NaN</td>\n",
       "      <td>NaN</td>\n",
       "      <td>NaN</td>\n",
       "      <td>NaN</td>\n",
       "      <td>NaN</td>\n",
       "      <td>...</td>\n",
       "      <td>NaN</td>\n",
       "      <td>NaN</td>\n",
       "      <td>NaN</td>\n",
       "      <td>NaN</td>\n",
       "      <td>NaN</td>\n",
       "      <td>NaN</td>\n",
       "      <td>NaN</td>\n",
       "      <td>3</td>\n",
       "      <td>1</td>\n",
       "      <td>2</td>\n",
       "    </tr>\n",
       "    <tr>\n",
       "      <th>1</th>\n",
       "      <td>910220</td>\n",
       "      <td>-1</td>\n",
       "      <td>9.0</td>\n",
       "      <td>0.0</td>\n",
       "      <td>NaN</td>\n",
       "      <td>NaN</td>\n",
       "      <td>NaN</td>\n",
       "      <td>NaN</td>\n",
       "      <td>21.0</td>\n",
       "      <td>11.0</td>\n",
       "      <td>...</td>\n",
       "      <td>4.0</td>\n",
       "      <td>8.0</td>\n",
       "      <td>11.0</td>\n",
       "      <td>10.0</td>\n",
       "      <td>3.0</td>\n",
       "      <td>9.0</td>\n",
       "      <td>4.0</td>\n",
       "      <td>5</td>\n",
       "      <td>2</td>\n",
       "      <td>1</td>\n",
       "    </tr>\n",
       "    <tr>\n",
       "      <th>2</th>\n",
       "      <td>910225</td>\n",
       "      <td>-1</td>\n",
       "      <td>9.0</td>\n",
       "      <td>17.0</td>\n",
       "      <td>NaN</td>\n",
       "      <td>NaN</td>\n",
       "      <td>NaN</td>\n",
       "      <td>NaN</td>\n",
       "      <td>17.0</td>\n",
       "      <td>10.0</td>\n",
       "      <td>...</td>\n",
       "      <td>2.0</td>\n",
       "      <td>9.0</td>\n",
       "      <td>9.0</td>\n",
       "      <td>6.0</td>\n",
       "      <td>3.0</td>\n",
       "      <td>9.0</td>\n",
       "      <td>2.0</td>\n",
       "      <td>5</td>\n",
       "      <td>2</td>\n",
       "      <td>3</td>\n",
       "    </tr>\n",
       "    <tr>\n",
       "      <th>3</th>\n",
       "      <td>910226</td>\n",
       "      <td>2</td>\n",
       "      <td>1.0</td>\n",
       "      <td>13.0</td>\n",
       "      <td>NaN</td>\n",
       "      <td>NaN</td>\n",
       "      <td>NaN</td>\n",
       "      <td>NaN</td>\n",
       "      <td>13.0</td>\n",
       "      <td>1.0</td>\n",
       "      <td>...</td>\n",
       "      <td>0.0</td>\n",
       "      <td>7.0</td>\n",
       "      <td>10.0</td>\n",
       "      <td>11.0</td>\n",
       "      <td>NaN</td>\n",
       "      <td>9.0</td>\n",
       "      <td>7.0</td>\n",
       "      <td>3</td>\n",
       "      <td>2</td>\n",
       "      <td>4</td>\n",
       "    </tr>\n",
       "    <tr>\n",
       "      <th>4</th>\n",
       "      <td>910241</td>\n",
       "      <td>-1</td>\n",
       "      <td>1.0</td>\n",
       "      <td>20.0</td>\n",
       "      <td>NaN</td>\n",
       "      <td>NaN</td>\n",
       "      <td>NaN</td>\n",
       "      <td>NaN</td>\n",
       "      <td>14.0</td>\n",
       "      <td>3.0</td>\n",
       "      <td>...</td>\n",
       "      <td>2.0</td>\n",
       "      <td>3.0</td>\n",
       "      <td>5.0</td>\n",
       "      <td>4.0</td>\n",
       "      <td>2.0</td>\n",
       "      <td>9.0</td>\n",
       "      <td>3.0</td>\n",
       "      <td>4</td>\n",
       "      <td>1</td>\n",
       "      <td>3</td>\n",
       "    </tr>\n",
       "  </tbody>\n",
       "</table>\n",
       "<p>5 rows × 366 columns</p>\n",
       "</div>"
      ],
      "text/plain": [
       "      LNR  AGER_TYP  AKT_DAT_KL  ALTER_HH  ALTER_KIND1  ALTER_KIND2  \\\n",
       "0  910215        -1         NaN       NaN          NaN          NaN   \n",
       "1  910220        -1         9.0       0.0          NaN          NaN   \n",
       "2  910225        -1         9.0      17.0          NaN          NaN   \n",
       "3  910226         2         1.0      13.0          NaN          NaN   \n",
       "4  910241        -1         1.0      20.0          NaN          NaN   \n",
       "\n",
       "   ALTER_KIND3  ALTER_KIND4  ALTERSKATEGORIE_FEIN  ANZ_HAUSHALTE_AKTIV  \\\n",
       "0          NaN          NaN                   NaN                  NaN   \n",
       "1          NaN          NaN                  21.0                 11.0   \n",
       "2          NaN          NaN                  17.0                 10.0   \n",
       "3          NaN          NaN                  13.0                  1.0   \n",
       "4          NaN          NaN                  14.0                  3.0   \n",
       "\n",
       "           ...           VHN  VK_DHT4A  VK_DISTANZ  VK_ZG11  W_KEIT_KIND_HH  \\\n",
       "0          ...           NaN       NaN         NaN      NaN             NaN   \n",
       "1          ...           4.0       8.0        11.0     10.0             3.0   \n",
       "2          ...           2.0       9.0         9.0      6.0             3.0   \n",
       "3          ...           0.0       7.0        10.0     11.0             NaN   \n",
       "4          ...           2.0       3.0         5.0      4.0             2.0   \n",
       "\n",
       "   WOHNDAUER_2008  WOHNLAGE ZABEOTYP  ANREDE_KZ  ALTERSKATEGORIE_GROB  \n",
       "0             NaN       NaN        3          1                     2  \n",
       "1             9.0       4.0        5          2                     1  \n",
       "2             9.0       2.0        5          2                     3  \n",
       "3             9.0       7.0        3          2                     4  \n",
       "4             9.0       3.0        4          1                     3  \n",
       "\n",
       "[5 rows x 366 columns]"
      ]
     },
     "execution_count": 11,
     "metadata": {},
     "output_type": "execute_result"
    }
   ],
   "source": [
    "# Sneak peak at our data\n",
    "azdias.head(5)"
   ]
  },
  {
   "cell_type": "code",
   "execution_count": 12,
   "metadata": {},
   "outputs": [
    {
     "data": {
      "text/html": [
       "<div>\n",
       "<style scoped>\n",
       "    .dataframe tbody tr th:only-of-type {\n",
       "        vertical-align: middle;\n",
       "    }\n",
       "\n",
       "    .dataframe tbody tr th {\n",
       "        vertical-align: top;\n",
       "    }\n",
       "\n",
       "    .dataframe thead th {\n",
       "        text-align: right;\n",
       "    }\n",
       "</style>\n",
       "<table border=\"1\" class=\"dataframe\">\n",
       "  <thead>\n",
       "    <tr style=\"text-align: right;\">\n",
       "      <th></th>\n",
       "      <th>LNR</th>\n",
       "      <th>AGER_TYP</th>\n",
       "      <th>AKT_DAT_KL</th>\n",
       "      <th>ALTER_HH</th>\n",
       "      <th>ALTER_KIND1</th>\n",
       "      <th>ALTER_KIND2</th>\n",
       "      <th>ALTER_KIND3</th>\n",
       "      <th>ALTER_KIND4</th>\n",
       "      <th>ALTERSKATEGORIE_FEIN</th>\n",
       "      <th>ANZ_HAUSHALTE_AKTIV</th>\n",
       "      <th>...</th>\n",
       "      <th>VK_ZG11</th>\n",
       "      <th>W_KEIT_KIND_HH</th>\n",
       "      <th>WOHNDAUER_2008</th>\n",
       "      <th>WOHNLAGE</th>\n",
       "      <th>ZABEOTYP</th>\n",
       "      <th>PRODUCT_GROUP</th>\n",
       "      <th>CUSTOMER_GROUP</th>\n",
       "      <th>ONLINE_PURCHASE</th>\n",
       "      <th>ANREDE_KZ</th>\n",
       "      <th>ALTERSKATEGORIE_GROB</th>\n",
       "    </tr>\n",
       "  </thead>\n",
       "  <tbody>\n",
       "    <tr>\n",
       "      <th>0</th>\n",
       "      <td>9626</td>\n",
       "      <td>2</td>\n",
       "      <td>1.0</td>\n",
       "      <td>10.0</td>\n",
       "      <td>NaN</td>\n",
       "      <td>NaN</td>\n",
       "      <td>NaN</td>\n",
       "      <td>NaN</td>\n",
       "      <td>10.0</td>\n",
       "      <td>1.0</td>\n",
       "      <td>...</td>\n",
       "      <td>2.0</td>\n",
       "      <td>6.0</td>\n",
       "      <td>9.0</td>\n",
       "      <td>7.0</td>\n",
       "      <td>3</td>\n",
       "      <td>COSMETIC_AND_FOOD</td>\n",
       "      <td>MULTI_BUYER</td>\n",
       "      <td>0</td>\n",
       "      <td>1</td>\n",
       "      <td>4</td>\n",
       "    </tr>\n",
       "    <tr>\n",
       "      <th>1</th>\n",
       "      <td>9628</td>\n",
       "      <td>-1</td>\n",
       "      <td>9.0</td>\n",
       "      <td>11.0</td>\n",
       "      <td>NaN</td>\n",
       "      <td>NaN</td>\n",
       "      <td>NaN</td>\n",
       "      <td>NaN</td>\n",
       "      <td>NaN</td>\n",
       "      <td>NaN</td>\n",
       "      <td>...</td>\n",
       "      <td>3.0</td>\n",
       "      <td>0.0</td>\n",
       "      <td>9.0</td>\n",
       "      <td>NaN</td>\n",
       "      <td>3</td>\n",
       "      <td>FOOD</td>\n",
       "      <td>SINGLE_BUYER</td>\n",
       "      <td>0</td>\n",
       "      <td>1</td>\n",
       "      <td>4</td>\n",
       "    </tr>\n",
       "    <tr>\n",
       "      <th>2</th>\n",
       "      <td>143872</td>\n",
       "      <td>-1</td>\n",
       "      <td>1.0</td>\n",
       "      <td>6.0</td>\n",
       "      <td>NaN</td>\n",
       "      <td>NaN</td>\n",
       "      <td>NaN</td>\n",
       "      <td>NaN</td>\n",
       "      <td>0.0</td>\n",
       "      <td>1.0</td>\n",
       "      <td>...</td>\n",
       "      <td>11.0</td>\n",
       "      <td>6.0</td>\n",
       "      <td>9.0</td>\n",
       "      <td>2.0</td>\n",
       "      <td>3</td>\n",
       "      <td>COSMETIC_AND_FOOD</td>\n",
       "      <td>MULTI_BUYER</td>\n",
       "      <td>0</td>\n",
       "      <td>2</td>\n",
       "      <td>4</td>\n",
       "    </tr>\n",
       "    <tr>\n",
       "      <th>3</th>\n",
       "      <td>143873</td>\n",
       "      <td>1</td>\n",
       "      <td>1.0</td>\n",
       "      <td>8.0</td>\n",
       "      <td>NaN</td>\n",
       "      <td>NaN</td>\n",
       "      <td>NaN</td>\n",
       "      <td>NaN</td>\n",
       "      <td>8.0</td>\n",
       "      <td>0.0</td>\n",
       "      <td>...</td>\n",
       "      <td>2.0</td>\n",
       "      <td>NaN</td>\n",
       "      <td>9.0</td>\n",
       "      <td>7.0</td>\n",
       "      <td>1</td>\n",
       "      <td>COSMETIC</td>\n",
       "      <td>MULTI_BUYER</td>\n",
       "      <td>0</td>\n",
       "      <td>1</td>\n",
       "      <td>4</td>\n",
       "    </tr>\n",
       "    <tr>\n",
       "      <th>4</th>\n",
       "      <td>143874</td>\n",
       "      <td>-1</td>\n",
       "      <td>1.0</td>\n",
       "      <td>20.0</td>\n",
       "      <td>NaN</td>\n",
       "      <td>NaN</td>\n",
       "      <td>NaN</td>\n",
       "      <td>NaN</td>\n",
       "      <td>14.0</td>\n",
       "      <td>7.0</td>\n",
       "      <td>...</td>\n",
       "      <td>4.0</td>\n",
       "      <td>2.0</td>\n",
       "      <td>9.0</td>\n",
       "      <td>3.0</td>\n",
       "      <td>1</td>\n",
       "      <td>FOOD</td>\n",
       "      <td>MULTI_BUYER</td>\n",
       "      <td>0</td>\n",
       "      <td>1</td>\n",
       "      <td>3</td>\n",
       "    </tr>\n",
       "  </tbody>\n",
       "</table>\n",
       "<p>5 rows × 369 columns</p>\n",
       "</div>"
      ],
      "text/plain": [
       "      LNR  AGER_TYP  AKT_DAT_KL  ALTER_HH  ALTER_KIND1  ALTER_KIND2  \\\n",
       "0    9626         2         1.0      10.0          NaN          NaN   \n",
       "1    9628        -1         9.0      11.0          NaN          NaN   \n",
       "2  143872        -1         1.0       6.0          NaN          NaN   \n",
       "3  143873         1         1.0       8.0          NaN          NaN   \n",
       "4  143874        -1         1.0      20.0          NaN          NaN   \n",
       "\n",
       "   ALTER_KIND3  ALTER_KIND4  ALTERSKATEGORIE_FEIN  ANZ_HAUSHALTE_AKTIV  \\\n",
       "0          NaN          NaN                  10.0                  1.0   \n",
       "1          NaN          NaN                   NaN                  NaN   \n",
       "2          NaN          NaN                   0.0                  1.0   \n",
       "3          NaN          NaN                   8.0                  0.0   \n",
       "4          NaN          NaN                  14.0                  7.0   \n",
       "\n",
       "           ...           VK_ZG11  W_KEIT_KIND_HH  WOHNDAUER_2008  WOHNLAGE  \\\n",
       "0          ...               2.0             6.0             9.0       7.0   \n",
       "1          ...               3.0             0.0             9.0       NaN   \n",
       "2          ...              11.0             6.0             9.0       2.0   \n",
       "3          ...               2.0             NaN             9.0       7.0   \n",
       "4          ...               4.0             2.0             9.0       3.0   \n",
       "\n",
       "   ZABEOTYP      PRODUCT_GROUP  CUSTOMER_GROUP ONLINE_PURCHASE  ANREDE_KZ  \\\n",
       "0         3  COSMETIC_AND_FOOD     MULTI_BUYER               0          1   \n",
       "1         3               FOOD    SINGLE_BUYER               0          1   \n",
       "2         3  COSMETIC_AND_FOOD     MULTI_BUYER               0          2   \n",
       "3         1           COSMETIC     MULTI_BUYER               0          1   \n",
       "4         1               FOOD     MULTI_BUYER               0          1   \n",
       "\n",
       "   ALTERSKATEGORIE_GROB  \n",
       "0                     4  \n",
       "1                     4  \n",
       "2                     4  \n",
       "3                     4  \n",
       "4                     3  \n",
       "\n",
       "[5 rows x 369 columns]"
      ]
     },
     "execution_count": 12,
     "metadata": {},
     "output_type": "execute_result"
    }
   ],
   "source": [
    "customers.head(5)"
   ]
  },
  {
   "cell_type": "code",
   "execution_count": 13,
   "metadata": {},
   "outputs": [
    {
     "data": {
      "text/html": [
       "<div>\n",
       "<style scoped>\n",
       "    .dataframe tbody tr th:only-of-type {\n",
       "        vertical-align: middle;\n",
       "    }\n",
       "\n",
       "    .dataframe tbody tr th {\n",
       "        vertical-align: top;\n",
       "    }\n",
       "\n",
       "    .dataframe thead th {\n",
       "        text-align: right;\n",
       "    }\n",
       "</style>\n",
       "<table border=\"1\" class=\"dataframe\">\n",
       "  <thead>\n",
       "    <tr style=\"text-align: right;\">\n",
       "      <th></th>\n",
       "      <th>Unnamed: 0</th>\n",
       "      <th>Attribute</th>\n",
       "      <th>Description</th>\n",
       "      <th>Value</th>\n",
       "      <th>Meaning</th>\n",
       "    </tr>\n",
       "  </thead>\n",
       "  <tbody>\n",
       "    <tr>\n",
       "      <th>0</th>\n",
       "      <td>NaN</td>\n",
       "      <td>AGER_TYP</td>\n",
       "      <td>best-ager typology</td>\n",
       "      <td>-1</td>\n",
       "      <td>unknown</td>\n",
       "    </tr>\n",
       "    <tr>\n",
       "      <th>1</th>\n",
       "      <td>NaN</td>\n",
       "      <td>NaN</td>\n",
       "      <td>NaN</td>\n",
       "      <td>0</td>\n",
       "      <td>no classification possible</td>\n",
       "    </tr>\n",
       "    <tr>\n",
       "      <th>2</th>\n",
       "      <td>NaN</td>\n",
       "      <td>NaN</td>\n",
       "      <td>NaN</td>\n",
       "      <td>1</td>\n",
       "      <td>passive elderly</td>\n",
       "    </tr>\n",
       "    <tr>\n",
       "      <th>3</th>\n",
       "      <td>NaN</td>\n",
       "      <td>NaN</td>\n",
       "      <td>NaN</td>\n",
       "      <td>2</td>\n",
       "      <td>cultural elderly</td>\n",
       "    </tr>\n",
       "    <tr>\n",
       "      <th>4</th>\n",
       "      <td>NaN</td>\n",
       "      <td>NaN</td>\n",
       "      <td>NaN</td>\n",
       "      <td>3</td>\n",
       "      <td>experience-driven elderly</td>\n",
       "    </tr>\n",
       "    <tr>\n",
       "      <th>5</th>\n",
       "      <td>NaN</td>\n",
       "      <td>ALTERSKATEGORIE_GROB</td>\n",
       "      <td>age classification through prename analysis</td>\n",
       "      <td>-1, 0</td>\n",
       "      <td>unknown</td>\n",
       "    </tr>\n",
       "    <tr>\n",
       "      <th>6</th>\n",
       "      <td>NaN</td>\n",
       "      <td>NaN</td>\n",
       "      <td>NaN</td>\n",
       "      <td>1</td>\n",
       "      <td>&lt; 30 years</td>\n",
       "    </tr>\n",
       "    <tr>\n",
       "      <th>7</th>\n",
       "      <td>NaN</td>\n",
       "      <td>NaN</td>\n",
       "      <td>NaN</td>\n",
       "      <td>2</td>\n",
       "      <td>30 - 45 years</td>\n",
       "    </tr>\n",
       "    <tr>\n",
       "      <th>8</th>\n",
       "      <td>NaN</td>\n",
       "      <td>NaN</td>\n",
       "      <td>NaN</td>\n",
       "      <td>3</td>\n",
       "      <td>46 - 60 years</td>\n",
       "    </tr>\n",
       "    <tr>\n",
       "      <th>9</th>\n",
       "      <td>NaN</td>\n",
       "      <td>NaN</td>\n",
       "      <td>NaN</td>\n",
       "      <td>4</td>\n",
       "      <td>&gt; 60 years</td>\n",
       "    </tr>\n",
       "  </tbody>\n",
       "</table>\n",
       "</div>"
      ],
      "text/plain": [
       "   Unnamed: 0             Attribute  \\\n",
       "0         NaN              AGER_TYP   \n",
       "1         NaN                   NaN   \n",
       "2         NaN                   NaN   \n",
       "3         NaN                   NaN   \n",
       "4         NaN                   NaN   \n",
       "5         NaN  ALTERSKATEGORIE_GROB   \n",
       "6         NaN                   NaN   \n",
       "7         NaN                   NaN   \n",
       "8         NaN                   NaN   \n",
       "9         NaN                   NaN   \n",
       "\n",
       "                                    Description  Value  \\\n",
       "0                            best-ager typology     -1   \n",
       "1                                           NaN      0   \n",
       "2                                           NaN      1   \n",
       "3                                           NaN      2   \n",
       "4                                           NaN      3   \n",
       "5  age classification through prename analysis   -1, 0   \n",
       "6                                           NaN      1   \n",
       "7                                           NaN      2   \n",
       "8                                           NaN      3   \n",
       "9                                           NaN      4   \n",
       "\n",
       "                      Meaning  \n",
       "0                     unknown  \n",
       "1  no classification possible  \n",
       "2             passive elderly  \n",
       "3            cultural elderly  \n",
       "4   experience-driven elderly  \n",
       "5                     unknown  \n",
       "6                  < 30 years  \n",
       "7               30 - 45 years  \n",
       "8               46 - 60 years  \n",
       "9                  > 60 years  "
      ]
     },
     "execution_count": 13,
     "metadata": {},
     "output_type": "execute_result"
    }
   ],
   "source": [
    "dias_attributes.head(10)"
   ]
  },
  {
   "cell_type": "code",
   "execution_count": 14,
   "metadata": {},
   "outputs": [
    {
     "data": {
      "text/plain": [
       "Index(['Unnamed: 0', 'Attribute', 'Description', 'Value', 'Meaning'], dtype='object')"
      ]
     },
     "execution_count": 14,
     "metadata": {},
     "output_type": "execute_result"
    }
   ],
   "source": [
    "dias_attributes.columns"
   ]
  },
  {
   "cell_type": "code",
   "execution_count": 15,
   "metadata": {},
   "outputs": [
    {
     "data": {
      "text/html": [
       "<div>\n",
       "<style scoped>\n",
       "    .dataframe tbody tr th:only-of-type {\n",
       "        vertical-align: middle;\n",
       "    }\n",
       "\n",
       "    .dataframe tbody tr th {\n",
       "        vertical-align: top;\n",
       "    }\n",
       "\n",
       "    .dataframe thead th {\n",
       "        text-align: right;\n",
       "    }\n",
       "</style>\n",
       "<table border=\"1\" class=\"dataframe\">\n",
       "  <thead>\n",
       "    <tr style=\"text-align: right;\">\n",
       "      <th></th>\n",
       "      <th>Attribute</th>\n",
       "      <th>Description</th>\n",
       "      <th>Value</th>\n",
       "      <th>Meaning</th>\n",
       "    </tr>\n",
       "  </thead>\n",
       "  <tbody>\n",
       "    <tr>\n",
       "      <th>0</th>\n",
       "      <td>AGER_TYP</td>\n",
       "      <td>best-ager typology</td>\n",
       "      <td>-1</td>\n",
       "      <td>unknown</td>\n",
       "    </tr>\n",
       "    <tr>\n",
       "      <th>1</th>\n",
       "      <td>NaN</td>\n",
       "      <td>NaN</td>\n",
       "      <td>0</td>\n",
       "      <td>no classification possible</td>\n",
       "    </tr>\n",
       "    <tr>\n",
       "      <th>2</th>\n",
       "      <td>NaN</td>\n",
       "      <td>NaN</td>\n",
       "      <td>1</td>\n",
       "      <td>passive elderly</td>\n",
       "    </tr>\n",
       "    <tr>\n",
       "      <th>3</th>\n",
       "      <td>NaN</td>\n",
       "      <td>NaN</td>\n",
       "      <td>2</td>\n",
       "      <td>cultural elderly</td>\n",
       "    </tr>\n",
       "    <tr>\n",
       "      <th>4</th>\n",
       "      <td>NaN</td>\n",
       "      <td>NaN</td>\n",
       "      <td>3</td>\n",
       "      <td>experience-driven elderly</td>\n",
       "    </tr>\n",
       "  </tbody>\n",
       "</table>\n",
       "</div>"
      ],
      "text/plain": [
       "  Attribute         Description Value                     Meaning\n",
       "0  AGER_TYP  best-ager typology    -1                     unknown\n",
       "1       NaN                 NaN     0  no classification possible\n",
       "2       NaN                 NaN     1             passive elderly\n",
       "3       NaN                 NaN     2            cultural elderly\n",
       "4       NaN                 NaN     3   experience-driven elderly"
      ]
     },
     "execution_count": 15,
     "metadata": {},
     "output_type": "execute_result"
    }
   ],
   "source": [
    "dias_attributes = dias_attributes.drop('Unnamed: 0', axis=1)\n",
    "dias_attributes.head(5)"
   ]
  },
  {
   "cell_type": "code",
   "execution_count": 16,
   "metadata": {
    "scrolled": false
   },
   "outputs": [
    {
     "data": {
      "text/plain": [
       "315"
      ]
     },
     "execution_count": 16,
     "metadata": {},
     "output_type": "execute_result"
    }
   ],
   "source": [
    "# Number of unique attributes in DIAS dataframe\n",
    "len(dias_attributes.Attribute.unique())"
   ]
  },
  {
   "cell_type": "code",
   "execution_count": 17,
   "metadata": {},
   "outputs": [
    {
     "data": {
      "text/plain": [
       "313"
      ]
     },
     "execution_count": 17,
     "metadata": {},
     "output_type": "execute_result"
    }
   ],
   "source": [
    "len(dias_info_levels.Attribute.unique())"
   ]
  },
  {
   "cell_type": "code",
   "execution_count": 18,
   "metadata": {},
   "outputs": [],
   "source": [
    "attributes_list = dias_attributes.Attribute.unique().tolist()\n",
    "azdias_list = list(azdias.columns)\n",
    "customers_list = list(customers.columns)"
   ]
  },
  {
   "cell_type": "code",
   "execution_count": 19,
   "metadata": {},
   "outputs": [
    {
     "name": "stdout",
     "output_type": "stream",
     "text": [
      "No of items common to all 3 daframes: 272\n",
      "No of items exclusive to azdias: 0\n",
      "No of items exclusive to customers: 3\n",
      "No of items exclusive to attributes: 43\n",
      "No of items overlapping between azdias and attributes: 272\n"
     ]
    }
   ],
   "source": [
    "#establishing uniqueness of the attributes accross the datasets in work\n",
    "common_to_all = (set(attributes_list) & set(azdias_list) & set(customers_list))\n",
    "unique_to_azdias = (set(azdias_list) - set(attributes_list) - set(customers_list))\n",
    "unique_to_customers = (set(customers_list) - set(attributes_list) - set(azdias_list))\n",
    "unique_to_attributes = (set(attributes_list) - set(customers_list) - set(azdias_list))\n",
    "common_azdias_attributes = (set(azdias_list) & set(attributes_list))\n",
    "\n",
    "print(\"No of items common to all 3 daframes: \" + str(len(common_to_all)))\n",
    "print(\"No of items exclusive to azdias: \" + str(len(unique_to_azdias)))\n",
    "print(\"No of items exclusive to customers: \" + str(len(unique_to_customers)))\n",
    "print(\"No of items exclusive to attributes: \" + str(len(unique_to_attributes)))\n",
    "print(\"No of items overlapping between azdias and attributes: \" + str(len(common_azdias_attributes)))\n"
   ]
  },
  {
   "cell_type": "markdown",
   "metadata": {},
   "source": [
    "#### Observations\n",
    "\n",
    "* There are 3 extra features in the customers dataset\n",
    "* There are 43 extra features in the Dias Attributes dataset\n",
    "* All the datasets share 272 features between them\n"
   ]
  },
  {
   "cell_type": "code",
   "execution_count": 20,
   "metadata": {},
   "outputs": [
    {
     "data": {
      "text/plain": [
       "Index([], dtype='object')"
      ]
     },
     "execution_count": 20,
     "metadata": {},
     "output_type": "execute_result"
    }
   ],
   "source": [
    "azdias.columns.intersection(customers)"
   ]
  },
  {
   "cell_type": "code",
   "execution_count": 21,
   "metadata": {
    "scrolled": false
   },
   "outputs": [
    {
     "data": {
      "text/plain": [
       "Index(['CUSTOMER_GROUP', 'ONLINE_PURCHASE', 'PRODUCT_GROUP'], dtype='object')"
      ]
     },
     "execution_count": 21,
     "metadata": {},
     "output_type": "execute_result"
    }
   ],
   "source": [
    "# Columns in customers and not in azdias\n",
    "azdias.columns ^ customers.columns"
   ]
  },
  {
   "cell_type": "code",
   "execution_count": 22,
   "metadata": {},
   "outputs": [],
   "source": [
    "# Dropping additional columns\n",
    "customers = customers.drop(['CUSTOMER_GROUP', 'ONLINE_PURCHASE', 'PRODUCT_GROUP'], inplace=False, axis=1)"
   ]
  },
  {
   "cell_type": "code",
   "execution_count": 23,
   "metadata": {},
   "outputs": [
    {
     "data": {
      "text/plain": [
       "(191652, 366)"
      ]
     },
     "execution_count": 23,
     "metadata": {},
     "output_type": "execute_result"
    }
   ],
   "source": [
    "customers.shape"
   ]
  },
  {
   "cell_type": "code",
   "execution_count": 24,
   "metadata": {},
   "outputs": [
    {
     "data": {
      "text/plain": [
       "(891221, 366)"
      ]
     },
     "execution_count": 24,
     "metadata": {},
     "output_type": "execute_result"
    }
   ],
   "source": [
    "azdias.shape"
   ]
  },
  {
   "cell_type": "code",
   "execution_count": null,
   "metadata": {},
   "outputs": [],
   "source": []
  },
  {
   "cell_type": "code",
   "execution_count": null,
   "metadata": {},
   "outputs": [],
   "source": []
  },
  {
   "cell_type": "code",
   "execution_count": 25,
   "metadata": {},
   "outputs": [
    {
     "data": {
      "text/html": [
       "<div>\n",
       "<style scoped>\n",
       "    .dataframe tbody tr th:only-of-type {\n",
       "        vertical-align: middle;\n",
       "    }\n",
       "\n",
       "    .dataframe tbody tr th {\n",
       "        vertical-align: top;\n",
       "    }\n",
       "\n",
       "    .dataframe thead th {\n",
       "        text-align: right;\n",
       "    }\n",
       "</style>\n",
       "<table border=\"1\" class=\"dataframe\">\n",
       "  <thead>\n",
       "    <tr style=\"text-align: right;\">\n",
       "      <th></th>\n",
       "      <th>features</th>\n",
       "      <th>unknowns</th>\n",
       "    </tr>\n",
       "  </thead>\n",
       "  <tbody>\n",
       "    <tr>\n",
       "      <th>0</th>\n",
       "      <td>AGER_TYP</td>\n",
       "      <td>-1</td>\n",
       "    </tr>\n",
       "    <tr>\n",
       "      <th>1</th>\n",
       "      <td>ALTERSKATEGORIE_GROB</td>\n",
       "      <td>-1,0,9</td>\n",
       "    </tr>\n",
       "    <tr>\n",
       "      <th>2</th>\n",
       "      <td>ALTER_HH</td>\n",
       "      <td>0</td>\n",
       "    </tr>\n",
       "    <tr>\n",
       "      <th>3</th>\n",
       "      <td>ANREDE_KZ</td>\n",
       "      <td>-1,0</td>\n",
       "    </tr>\n",
       "    <tr>\n",
       "      <th>4</th>\n",
       "      <td>BALLRAUM</td>\n",
       "      <td>-1</td>\n",
       "    </tr>\n",
       "    <tr>\n",
       "      <th>5</th>\n",
       "      <td>BIP_FLAG</td>\n",
       "      <td>-1</td>\n",
       "    </tr>\n",
       "    <tr>\n",
       "      <th>6</th>\n",
       "      <td>CAMEO_DEUG_2015</td>\n",
       "      <td>-1</td>\n",
       "    </tr>\n",
       "    <tr>\n",
       "      <th>7</th>\n",
       "      <td>CAMEO_DEUINTL_2015</td>\n",
       "      <td>-1</td>\n",
       "    </tr>\n",
       "    <tr>\n",
       "      <th>8</th>\n",
       "      <td>CJT_GESAMTTYP</td>\n",
       "      <td>0</td>\n",
       "    </tr>\n",
       "    <tr>\n",
       "      <th>9</th>\n",
       "      <td>D19_KK_KUNDENTYP</td>\n",
       "      <td>-1</td>\n",
       "    </tr>\n",
       "    <tr>\n",
       "      <th>10</th>\n",
       "      <td>EWDICHTE</td>\n",
       "      <td>-1</td>\n",
       "    </tr>\n",
       "    <tr>\n",
       "      <th>11</th>\n",
       "      <td>FINANZTYP</td>\n",
       "      <td>-1</td>\n",
       "    </tr>\n",
       "    <tr>\n",
       "      <th>12</th>\n",
       "      <td>FINANZ_ANLEGER</td>\n",
       "      <td>-1</td>\n",
       "    </tr>\n",
       "    <tr>\n",
       "      <th>13</th>\n",
       "      <td>FINANZ_HAUSBAUER</td>\n",
       "      <td>-1</td>\n",
       "    </tr>\n",
       "    <tr>\n",
       "      <th>14</th>\n",
       "      <td>FINANZ_MINIMALIST</td>\n",
       "      <td>-1</td>\n",
       "    </tr>\n",
       "    <tr>\n",
       "      <th>15</th>\n",
       "      <td>FINANZ_SPARER</td>\n",
       "      <td>-1</td>\n",
       "    </tr>\n",
       "    <tr>\n",
       "      <th>16</th>\n",
       "      <td>FINANZ_UNAUFFAELLIGER</td>\n",
       "      <td>-1</td>\n",
       "    </tr>\n",
       "    <tr>\n",
       "      <th>17</th>\n",
       "      <td>FINANZ_VORSORGER</td>\n",
       "      <td>-1</td>\n",
       "    </tr>\n",
       "    <tr>\n",
       "      <th>18</th>\n",
       "      <td>GEBAEUDETYP</td>\n",
       "      <td>-1,0</td>\n",
       "    </tr>\n",
       "    <tr>\n",
       "      <th>19</th>\n",
       "      <td>GEOSCORE_KLS7</td>\n",
       "      <td>-1,0</td>\n",
       "    </tr>\n",
       "    <tr>\n",
       "      <th>20</th>\n",
       "      <td>HAUSHALTSSTRUKTUR</td>\n",
       "      <td>-1,0</td>\n",
       "    </tr>\n",
       "    <tr>\n",
       "      <th>21</th>\n",
       "      <td>HEALTH_TYP</td>\n",
       "      <td>-1</td>\n",
       "    </tr>\n",
       "    <tr>\n",
       "      <th>22</th>\n",
       "      <td>HH_EINKOMMEN_SCORE</td>\n",
       "      <td>-1,0</td>\n",
       "    </tr>\n",
       "    <tr>\n",
       "      <th>23</th>\n",
       "      <td>INNENSTADT</td>\n",
       "      <td>-1</td>\n",
       "    </tr>\n",
       "    <tr>\n",
       "      <th>24</th>\n",
       "      <td>KBA05_ALTER1</td>\n",
       "      <td>-1,9</td>\n",
       "    </tr>\n",
       "    <tr>\n",
       "      <th>25</th>\n",
       "      <td>KBA05_ALTER2</td>\n",
       "      <td>-1,9</td>\n",
       "    </tr>\n",
       "    <tr>\n",
       "      <th>26</th>\n",
       "      <td>KBA05_ALTER3</td>\n",
       "      <td>-1,9</td>\n",
       "    </tr>\n",
       "    <tr>\n",
       "      <th>27</th>\n",
       "      <td>KBA05_ALTER4</td>\n",
       "      <td>-1,9</td>\n",
       "    </tr>\n",
       "    <tr>\n",
       "      <th>28</th>\n",
       "      <td>KBA05_ANHANG</td>\n",
       "      <td>-1,9</td>\n",
       "    </tr>\n",
       "    <tr>\n",
       "      <th>29</th>\n",
       "      <td>KBA05_ANTG1</td>\n",
       "      <td>-1</td>\n",
       "    </tr>\n",
       "  </tbody>\n",
       "</table>\n",
       "</div>"
      ],
      "text/plain": [
       "                 features unknowns\n",
       "0                AGER_TYP       -1\n",
       "1    ALTERSKATEGORIE_GROB   -1,0,9\n",
       "2                ALTER_HH        0\n",
       "3               ANREDE_KZ     -1,0\n",
       "4                BALLRAUM       -1\n",
       "5                BIP_FLAG       -1\n",
       "6         CAMEO_DEUG_2015       -1\n",
       "7      CAMEO_DEUINTL_2015       -1\n",
       "8           CJT_GESAMTTYP        0\n",
       "9        D19_KK_KUNDENTYP       -1\n",
       "10               EWDICHTE       -1\n",
       "11              FINANZTYP       -1\n",
       "12         FINANZ_ANLEGER       -1\n",
       "13       FINANZ_HAUSBAUER       -1\n",
       "14      FINANZ_MINIMALIST       -1\n",
       "15          FINANZ_SPARER       -1\n",
       "16  FINANZ_UNAUFFAELLIGER       -1\n",
       "17       FINANZ_VORSORGER       -1\n",
       "18            GEBAEUDETYP     -1,0\n",
       "19          GEOSCORE_KLS7     -1,0\n",
       "20      HAUSHALTSSTRUKTUR     -1,0\n",
       "21             HEALTH_TYP       -1\n",
       "22     HH_EINKOMMEN_SCORE     -1,0\n",
       "23             INNENSTADT       -1\n",
       "24           KBA05_ALTER1     -1,9\n",
       "25           KBA05_ALTER2     -1,9\n",
       "26           KBA05_ALTER3     -1,9\n",
       "27           KBA05_ALTER4     -1,9\n",
       "28           KBA05_ANHANG     -1,9\n",
       "29            KBA05_ANTG1       -1"
      ]
     },
     "execution_count": 25,
     "metadata": {},
     "output_type": "execute_result"
    }
   ],
   "source": [
    "#Find unknown values for each attributes\n",
    "\n",
    "attributes_unknown = {}\n",
    "for i in range(len(dias_attributes)):\n",
    "    if type(dias_attributes.iloc[i]['Attribute']) == str:\n",
    "        tmp = dias_attributes.iloc[i]['Attribute']\n",
    "    \n",
    "    if type(dias_attributes.iloc[i]['Meaning']) == str:\n",
    "        if not dias_attributes.iloc[i]['Meaning'].find('unknown') == -1\\\n",
    "            or not dias_attributes.iloc[i]['Meaning'].find('uniformly distributed') == -1 or\\\n",
    "            not dias_attributes.iloc[i]['Meaning'].find('missing') == -1:\n",
    "            \n",
    "            if tmp in attributes_unknown:\n",
    "                attributes_unknown[tmp].append(str(dias_attributes.iloc[i]['Value']))\n",
    "            else:\n",
    "                attributes_unknown[tmp] = [str(dias_attributes.iloc[i]['Value'])]\n",
    "\n",
    "name = []\n",
    "attr = []\n",
    "for i in attributes_unknown:\n",
    "    name.append(i)\n",
    "    attr.append(attributes_unknown[i])\n",
    "    tmp = []\n",
    "    for j in attributes_unknown[i]:\n",
    "        if j.find(','):\n",
    "            tmp += j.replace(' ','').split(',')\n",
    "        else:\n",
    "            tmp.append(j)\n",
    "    \n",
    "    for k in range(len(tmp)):\n",
    "        tmp[k] = int(tmp[k])\n",
    "        \n",
    "    attributes_unknown[i] = tmp\n",
    "\n",
    "#for clean printing purpose\n",
    "for idx, i in enumerate(attr):\n",
    "    attr[idx] = ','.join(attr[idx]).replace(' ','')\n",
    "\n",
    "a = {'features':name, 'unknowns':attr}\n",
    "l = ['features','unknowns']\n",
    "attr_df = pd.DataFrame(a, columns=l)\n",
    "\n",
    "name = []\n",
    "attr = []\n",
    "\n",
    "attr_df.head(30)"
   ]
  },
  {
   "cell_type": "code",
   "execution_count": 26,
   "metadata": {},
   "outputs": [],
   "source": [
    "def missing_to_nans(df, attributes_unknown):\n",
    "    '''\n",
    "    Replace the missing value in a demographic dataframe with nan\n",
    "    Args: \n",
    "        df (df): demographic dataframe\n",
    "        attributes_unknown (dict): a dictionary where the keys are the features attributes\n",
    "        and containing a list of the unknown value for this specific attribute\n",
    "    returns: None\n",
    "    '''\n",
    "    for feature in attributes_unknown:\n",
    "        if feature in df:\n",
    "            for missing in attributes_unknown[feature]: \n",
    "                df[feature].replace(missing, np.nan, inplace=True)"
   ]
  },
  {
   "cell_type": "code",
   "execution_count": 27,
   "metadata": {},
   "outputs": [],
   "source": [
    "missing_to_nans(azdias, attributes_unknown)"
   ]
  },
  {
   "cell_type": "code",
   "execution_count": 28,
   "metadata": {},
   "outputs": [],
   "source": [
    "missing_to_nans(customers, attributes_unknown)"
   ]
  },
  {
   "cell_type": "code",
   "execution_count": 29,
   "metadata": {},
   "outputs": [],
   "source": [
    "# creating a function to determine percentage of missing values\n",
    "def df_missing_pct(df):\n",
    "    '''\n",
    "    Calculates the percentage of missing values per columns in\n",
    "    a dataframe\n",
    "    \n",
    "    Args \n",
    "        df (df): dataframe\n",
    "    return \n",
    "        missing_df (df): \n",
    "    '''\n",
    "    missing = df.isnull().sum()* 100/len(df)\n",
    "    missing_df = pd.DataFrame({'column_name': df.columns,\n",
    "                                 'percent_missing': missing})\n",
    "    \n",
    "    return missing_df"
   ]
  },
  {
   "cell_type": "code",
   "execution_count": 30,
   "metadata": {},
   "outputs": [],
   "source": [
    "azdias_missing = df_missing_pct(azdias)"
   ]
  },
  {
   "cell_type": "code",
   "execution_count": 31,
   "metadata": {},
   "outputs": [],
   "source": [
    "customers_missing = df_missing_pct(customers)"
   ]
  },
  {
   "cell_type": "code",
   "execution_count": 32,
   "metadata": {},
   "outputs": [],
   "source": [
    "def feature_cap(missing, cap):\n",
    "    '''\n",
    "    Compute the number of features that have less missing values than the cap\n",
    "    Args: \n",
    "        missing (df): missing value dataframe\n",
    "        cap (int): an interger representing in % the maximum of missing value that \n",
    "        a feature can have\n",
    "    returns (list): a list of feature that have less missing value than the cap\n",
    "    '''\n",
    "    res = []\n",
    "    for i in range(len(missing)):\n",
    "        if missing.iloc[i]['percent_missing'] <= cap:\n",
    "            res.append(missing.iloc[i]['column_name'])\n",
    "    return res"
   ]
  },
  {
   "cell_type": "code",
   "execution_count": 33,
   "metadata": {},
   "outputs": [],
   "source": [
    "azdias_x=[]\n",
    "azdias_y=[]\n",
    "for cap in range(101):\n",
    "    azdias_x.append(cap)\n",
    "    azdias_y.append(len(feature_cap(azdias_missing, cap)))"
   ]
  },
  {
   "cell_type": "code",
   "execution_count": 34,
   "metadata": {},
   "outputs": [
    {
     "data": {
      "image/png": "[encoded data removed]",
      "text/plain": [
       "<matplotlib.figure.Figure at 0x7f1fb93ee128>"
      ]
     },
     "metadata": {
      "needs_background": "light"
     },
     "output_type": "display_data"
    }
   ],
   "source": [
    "plt.plot(azdias_x, azdias_y)\n",
    "plt.xlabel('% of missing value')\n",
    "plt.xticks(np.arange(0, 110, step=10))\n",
    "plt.ylabel('Number of features')\n",
    "plt.title('Azdias')\n",
    "plt.grid(b=True)\n",
    "plt.show()"
   ]
  },
  {
   "cell_type": "code",
   "execution_count": 35,
   "metadata": {},
   "outputs": [],
   "source": [
    "customers_x=[]\n",
    "customers_y=[]\n",
    "for cap in range(101):\n",
    "    customers_x.append(cap)\n",
    "    customers_y.append(len(feature_cap(customers_missing, cap)))"
   ]
  },
  {
   "cell_type": "code",
   "execution_count": 36,
   "metadata": {},
   "outputs": [
    {
     "data": {
      "image/png": "[encoded data removed]",
      "text/plain": [
       "<matplotlib.figure.Figure at 0x7f1fb8a1dd68>"
      ]
     },
     "metadata": {
      "needs_background": "light"
     },
     "output_type": "display_data"
    }
   ],
   "source": [
    "plt.plot(customers_x, customers_y)\n",
    "plt.xlabel('% of missing value')\n",
    "plt.xticks(np.arange(0, 110, step=10))\n",
    "plt.ylabel('Number of features')\n",
    "plt.title('Customers')\n",
    "plt.grid(b=True)\n",
    "plt.show()"
   ]
  },
  {
   "cell_type": "markdown",
   "metadata": {},
   "source": [
    "From the above plot we can see that we could take a cap of around 18% for azdias dataset, but most of customers datasets columns have more than that. 30% seems to be a good choice overall"
   ]
  },
  {
   "cell_type": "code",
   "execution_count": 37,
   "metadata": {},
   "outputs": [
    {
     "name": "stdout",
     "output_type": "stream",
     "text": [
      "356\n"
     ]
    }
   ],
   "source": [
    "azdias_features_selected = feature_cap(azdias_missing, 30)\n",
    "print(len(azdias_features_selected))"
   ]
  },
  {
   "cell_type": "code",
   "execution_count": 38,
   "metadata": {},
   "outputs": [
    {
     "name": "stdout",
     "output_type": "stream",
     "text": [
      "354\n"
     ]
    }
   ],
   "source": [
    "customers_features_selected = feature_cap(customers_missing, 30)\n",
    "print(len(customers_features_selected))"
   ]
  },
  {
   "cell_type": "code",
   "execution_count": 39,
   "metadata": {},
   "outputs": [
    {
     "data": {
      "text/plain": [
       "['REGIOTYP', 'KKK']"
      ]
     },
     "execution_count": 39,
     "metadata": {},
     "output_type": "execute_result"
    }
   ],
   "source": [
    "list(set(azdias_features_selected) - set(customers_features_selected))"
   ]
  },
  {
   "cell_type": "code",
   "execution_count": 40,
   "metadata": {},
   "outputs": [
    {
     "data": {
      "text/plain": [
       "[]"
      ]
     },
     "execution_count": 40,
     "metadata": {},
     "output_type": "execute_result"
    }
   ],
   "source": [
    "list(set(customers_features_selected) - set(azdias_features_selected))"
   ]
  },
  {
   "cell_type": "code",
   "execution_count": 41,
   "metadata": {},
   "outputs": [],
   "source": [
    "#since there is only 2 features selected more in azdias than customers and none the other way around,\n",
    "#we just keep customers_features_selected as features_selected for both in the future \n",
    "\n",
    "features_selected = customers_features_selected"
   ]
  },
  {
   "cell_type": "markdown",
   "metadata": {},
   "source": [
    "### Feature Enginering "
   ]
  },
  {
   "cell_type": "code",
   "execution_count": 42,
   "metadata": {},
   "outputs": [],
   "source": [
    "def features_engineering(df):\n",
    "    '''\n",
    "    This function takes a demographic dataframe to create new features\n",
    "    and encode select categorical features\n",
    "    Args: \n",
    "        df (df) : demographic dataframe\n",
    "    returns: \n",
    "        df (df) : dataframe with new features\n",
    "    '''\n",
    "    # Dealing with Unnamed 0\n",
    "    if 'Unnamed: 0' in df:\n",
    "        df.drop(['Unnamed: 0'], axis = 1, inplace = True)\n",
    "        \n",
    "    # Dealing with ANREDE_KZ\n",
    "    if 'ANREDE_KZ' in df:\n",
    "        df = pd.get_dummies(df, columns = ['ANREDE_KZ'], prefix = ['ANREDE_KZ'], dummy_na = True, drop_first = True)\n",
    "    \n",
    "    # Dealing with CAMEO_DEU_2015\n",
    "    if 'CAMEO_DEU_2015' in df:\n",
    "        most_frequent = df['CAMEO_DEU_2015'].value_counts().idxmax()\n",
    "        df['CAMEO_DEU_2015'] = df['CAMEO_DEU_2015'].replace(['XX'], most_frequent).fillna(most_frequent)\n",
    "        values = np.array(df['CAMEO_DEU_2015'])\n",
    "        encoder = LabelEncoder()\n",
    "        encoded = encoder.fit_transform(values)\n",
    "        df['CAMEO_DEU_2015'] = encoded\n",
    "    \n",
    "    #dealing with CAMEO_INTL_2015\n",
    "    if 'CAMEO_INTL_2015' in df:\n",
    "        most_frequent = df['CAMEO_INTL_2015'].value_counts().idxmax()\n",
    "        df['CAMEO_INTL_2015'] = df['CAMEO_INTL_2015'].fillna(most_frequent)\n",
    "        df['FAMILY_STATUS'] = df['CAMEO_INTL_2015'].apply(lambda x: float(str(x)[1]))\n",
    "        df['FAMILY_REVENUE'] = df['CAMEO_INTL_2015'].apply(lambda x: float(str(x)[0]))\n",
    "        df.drop(['CAMEO_INTL_2015'], axis = 1, inplace = True)\n",
    "    \n",
    "    # Dealing with EINGEFUEGT_AM\n",
    "    if 'EINGEFUEGT_AM' in df:\n",
    "        df['EINGEFUEGT_AM'] = pd.to_datetime(df['EINGEFUEGT_AM']).dt.year\n",
    "    \n",
    "    #dealing with D19_LETZTER_KAUF_BRANCHE\n",
    "    if 'D19_LETZTER_KAUF_BRANCHE' in df:\n",
    "        df.drop(['D19_LETZTER_KAUF_BRANCHE'], axis = 1, inplace = True)\n",
    "    #dealing with LP_LEBENSPHASE_FEIN\n",
    "    if 'LP_LEBENSPHASE_FEIN' in df:\n",
    "        replace_dict = {1: 1,\n",
    "                        2: 1,\n",
    "                        3: 2,\n",
    "                        4: 2,\n",
    "                        5: 1,\n",
    "                        6: 1,\n",
    "                        7: 2,\n",
    "                        8: 2,\n",
    "                        9: 2,\n",
    "                        10: 3,\n",
    "                        11: 2,\n",
    "                        12: 2,\n",
    "                        13: 4,\n",
    "                        14: 2,\n",
    "                        15: 1,\n",
    "                        16: 2,\n",
    "                        17: 2,\n",
    "                        18: 3,\n",
    "                        19: 3,\n",
    "                        20: 4,\n",
    "                        21: 1,\n",
    "                        22: 2,\n",
    "                        23: 3,\n",
    "                        24: 1,\n",
    "                        25: 2,\n",
    "                        26: 2,\n",
    "                        27: 2,\n",
    "                        28: 4,\n",
    "                        29: 1,\n",
    "                        30: 2,\n",
    "                        31: 1,\n",
    "                        32: 2,\n",
    "                        33: 2,\n",
    "                        34: 2,\n",
    "                        35: 4, \n",
    "                        36: 2,\n",
    "                        37: 2,\n",
    "                        38: 2,\n",
    "                        39: 4,\n",
    "                        40: 4}\n",
    "        \n",
    "        df['LP_LEBENSPHASE_FEIN_WEALTH'] = df['LP_LEBENSPHASE_FEIN'].map(replace_dict)\n",
    "        \n",
    "        replace_dict = {1: 1,\n",
    "                        2: 2,\n",
    "                        3: 1,\n",
    "                        4: 2,\n",
    "                        5: 3,\n",
    "                        6: 4,\n",
    "                        7: 3,\n",
    "                        8: 4,\n",
    "                        9: 2,\n",
    "                        10: 2,\n",
    "                        11: 3,\n",
    "                        12: 4,\n",
    "                        13: 3,\n",
    "                        14: 1,\n",
    "                        15: 3,\n",
    "                        16: 3,\n",
    "                        17: 2,\n",
    "                        18: 1,\n",
    "                        19: 3,\n",
    "                        20: 3,\n",
    "                        21: 2,\n",
    "                        22: 2,\n",
    "                        23: 2,\n",
    "                        24: 2,\n",
    "                        25: 2,\n",
    "                        26: 2,\n",
    "                        27: 2,\n",
    "                        28: 2,\n",
    "                        29: 1,\n",
    "                        30: 1,\n",
    "                        31: 3,\n",
    "                        32: 3,\n",
    "                        33: 1,\n",
    "                        34: 1,\n",
    "                        35: 1, \n",
    "                        36: 3,\n",
    "                        37: 3,\n",
    "                        38: 4,\n",
    "                        39: 2,\n",
    "                        40: 4}\n",
    "        \n",
    "        df['LP_LEBENSPHASE_FEIN_AGE'] = df['LP_LEBENSPHASE_FEIN'].map(replace_dict)\n",
    "        df.drop(['LP_LEBENSPHASE_FEIN'], axis = 1, inplace = True)\n",
    "        \n",
    "    # Dealing with OST_WEST_KZ \n",
    "    if 'OST_WEST_KZ' in df:\n",
    "        replace_dict = {'W':0,\n",
    "                        'O':1}\n",
    "        \n",
    "        df['OST_WEST_KZ'] = df['OST_WEST_KZ'].map(replace_dict)\n",
    "        \n",
    "    # Dealing with PRAEGENDE_JUGENDJAHRE\n",
    "    if 'PRAEGENDE_JUGENDJAHRE' in df:\n",
    "        replace_dict = {2: 1,\n",
    "                        3: 2,\n",
    "                        4: 2,\n",
    "                        5: 3,\n",
    "                        6: 3,\n",
    "                        7: 3,\n",
    "                        8: 4,\n",
    "                        9: 4,\n",
    "                        10: 5,\n",
    "                        11: 5,\n",
    "                        12: 5,\n",
    "                        13: 5,\n",
    "                        14: 6,\n",
    "                        15: 6}\n",
    "        \n",
    "        df['PRAEGENDE_JUGENDJAHRE_NEW'] = df['PRAEGENDE_JUGENDJAHRE'].map(replace_dict)\n",
    "        df.drop(['PRAEGENDE_JUGENDJAHRE'], axis = 1, inplace = True)\n",
    "    \n",
    "    #Dealing with WOHNLAGE\n",
    "    if 'WOHNLAGE' in df:\n",
    "        replace_dict = {0.0:3,\n",
    "                        1.0:1,\n",
    "                        2.0:2,\n",
    "                        3.0:3,\n",
    "                        4.0:4,\n",
    "                        5.0:5,\n",
    "                        7.0:3,\n",
    "                        8.0:3}\n",
    "        \n",
    "        df['WOHNLAGE_QUALITAT'] = df['WOHNLAGE'].map(replace_dict)\n",
    "        \n",
    "        replace_dict = {1.0:0,\n",
    "                        2.0:0, \n",
    "                        3.0:0, \n",
    "                        4.0:0, \n",
    "                        5.0:0, \n",
    "                        7.0:1, \n",
    "                        8.0:1}\n",
    "        \n",
    "        df['WOHNLAGE_RURAL'] = df['WOHNLAGE'].map(replace_dict)\n",
    "        df.drop(['WOHNLAGE'], axis = 1, inplace = True)\n",
    "    \n",
    "    print('Replacing the NaNs value in the dataframe with the most frequent one')\n",
    "    for feat in df:\n",
    "        most_frequent = df[feat].value_counts().idxmax()\n",
    "        df[feat] = df[feat].fillna(most_frequent)\n",
    "   \n",
    "\n",
    "    return df\n",
    "    "
   ]
  },
  {
   "cell_type": "code",
   "execution_count": 43,
   "metadata": {},
   "outputs": [
    {
     "name": "stdout",
     "output_type": "stream",
     "text": [
      "Replacing the NaNs value in the dataframe with the most frequent one\n"
     ]
    }
   ],
   "source": [
    "azdias = features_engineering(azdias)"
   ]
  },
  {
   "cell_type": "code",
   "execution_count": 44,
   "metadata": {},
   "outputs": [
    {
     "data": {
      "text/plain": [
       "0.0"
      ]
     },
     "execution_count": 44,
     "metadata": {},
     "output_type": "execute_result"
    }
   ],
   "source": [
    "#quick check if everything has gone as intended\n",
    "\n",
    "df_missing_pct(azdias)['percent_missing'].sum()"
   ]
  },
  {
   "cell_type": "code",
   "execution_count": 45,
   "metadata": {},
   "outputs": [
    {
     "name": "stdout",
     "output_type": "stream",
     "text": [
      "Replacing the NaNs value in the dataframe with the most frequent one\n"
     ]
    }
   ],
   "source": [
    "customers = features_engineering(customers)"
   ]
  },
  {
   "cell_type": "code",
   "execution_count": 46,
   "metadata": {},
   "outputs": [
    {
     "data": {
      "text/plain": [
       "0.0"
      ]
     },
     "execution_count": 46,
     "metadata": {},
     "output_type": "execute_result"
    }
   ],
   "source": [
    "df_missing_pct(customers)['percent_missing'].sum()"
   ]
  },
  {
   "cell_type": "code",
   "execution_count": 47,
   "metadata": {},
   "outputs": [],
   "source": [
    "#From reading the DIAS Attributes - Values 2017.xlsx creating a list of features that are categorical\n",
    "\n",
    "categorical = ['AGER_TYP',\n",
    "               'ANREDE_KZ',\n",
    "               'CAMEO_DEU_2015',\n",
    "               'CAMEO_DEUG_2015',\n",
    "               'CAMEO_INTL_2015',\n",
    "               'CJT_GESAMTTYP',\n",
    "               'D19_BANKEN_DATUM',\n",
    "               'D19_BANKEN_OFFLINE_DATUM',\n",
    "               'D19_BANKEN_ONLINE_DATUM',\n",
    "               'D19_GESAMT_DATUM',\n",
    "               'D19_GESAMT_OFFLINE_DATUM',\n",
    "               'D19_GESAMT_ONLINE_DATUM',\n",
    "               'D19_KONSUMTYP',\n",
    "               'D19_TELKO_DATUM',\n",
    "               'D19_TELKO_OFFLINE_DATUM',\n",
    "               'D19_TELKO_ONLINE_DATUM',\n",
    "               'D19_VERSAND_DATUM',\n",
    "               'D19_VERSAND_OFFLINE_DATUM',\n",
    "               'D19_VERSAND_ONLINE_DATUM',\n",
    "               'D19_VERSI_DATUM',\n",
    "               'D19_VERSI_OFFLINE_DATUM',\n",
    "               'D19_VERSI_ONLINE_DATUM',\n",
    "               'FINANZTYP',\n",
    "               'GEBAEUDETYP',\n",
    "               'GFK_URLAUBERTYP',\n",
    "               'GREEN_AVANTGARDE',\n",
    "               'KBA05_BAUMAX',\n",
    "               'KK_KUNDENTYP',\n",
    "               'LP_FAMILIE_FEIN',\n",
    "               'LP_FAMILIE_GROB',\n",
    "               'LP_STATUS_FEIN',\n",
    "               'LP_STATUS_GROB',\n",
    "               'NATIONALITAET_KZ',\n",
    "               'OST_WEST_KZ',\n",
    "               'PLZ8_BAUMAX',\n",
    "               'SHOPPER_TYP',\n",
    "               'SOHO_KZ',\n",
    "               'TITEL_KZ',\n",
    "               'VERS_TYP',\n",
    "               'WOHNLAGE',\n",
    "               'ZABEOTYP']"
   ]
  },
  {
   "cell_type": "code",
   "execution_count": 48,
   "metadata": {},
   "outputs": [],
   "source": [
    "def cat_count(df, categorical):\n",
    "    '''\n",
    "    Given a demographic dataframe and a list of categorical features,\n",
    "    prints the amount of categorical variables per feature\n",
    "    Args:\n",
    "        df (df): demographics dataframe\n",
    "        categorical (list): a list of categorical features\n",
    "    returns: None\n",
    "    '''\n",
    "    cat = [x for x in categorical if x in df.columns] \n",
    "    \n",
    "    print(df[cat].nunique())"
   ]
  },
  {
   "cell_type": "code",
   "execution_count": 49,
   "metadata": {},
   "outputs": [
    {
     "name": "stdout",
     "output_type": "stream",
     "text": [
      "AGER_TYP                      4\n",
      "CAMEO_DEU_2015               44\n",
      "CAMEO_DEUG_2015               9\n",
      "CJT_GESAMTTYP                 6\n",
      "D19_BANKEN_DATUM             10\n",
      "D19_BANKEN_OFFLINE_DATUM     10\n",
      "D19_BANKEN_ONLINE_DATUM      10\n",
      "D19_GESAMT_DATUM             10\n",
      "D19_GESAMT_OFFLINE_DATUM     10\n",
      "D19_GESAMT_ONLINE_DATUM      10\n",
      "D19_KONSUMTYP                 7\n",
      "D19_TELKO_DATUM              10\n",
      "D19_TELKO_OFFLINE_DATUM      10\n",
      "D19_TELKO_ONLINE_DATUM       10\n",
      "D19_VERSAND_DATUM            10\n",
      "D19_VERSAND_OFFLINE_DATUM    10\n",
      "D19_VERSAND_ONLINE_DATUM     10\n",
      "D19_VERSI_DATUM              10\n",
      "D19_VERSI_OFFLINE_DATUM      10\n",
      "D19_VERSI_ONLINE_DATUM       10\n",
      "FINANZTYP                     6\n",
      "GEBAEUDETYP                   7\n",
      "GFK_URLAUBERTYP              12\n",
      "GREEN_AVANTGARDE              2\n",
      "KBA05_BAUMAX                  5\n",
      "KK_KUNDENTYP                  6\n",
      "LP_FAMILIE_FEIN              12\n",
      "LP_FAMILIE_GROB               6\n",
      "LP_STATUS_FEIN               10\n",
      "LP_STATUS_GROB                5\n",
      "NATIONALITAET_KZ              3\n",
      "OST_WEST_KZ                   2\n",
      "PLZ8_BAUMAX                   5\n",
      "SHOPPER_TYP                   4\n",
      "SOHO_KZ                       2\n",
      "TITEL_KZ                      5\n",
      "VERS_TYP                      2\n",
      "ZABEOTYP                      6\n",
      "dtype: int64\n"
     ]
    }
   ],
   "source": [
    "cat_count(azdias, categorical)"
   ]
  },
  {
   "cell_type": "code",
   "execution_count": 50,
   "metadata": {},
   "outputs": [
    {
     "name": "stdout",
     "output_type": "stream",
     "text": [
      "AGER_TYP [ 2.  3.  0.  1.]\n",
      "CAMEO_DEU_2015 [25 35 15  5 37 13  8  0  4 42 20 36 30 21 43 40  1 12 17 14 11 18 31 39 27\n",
      " 28  7 32 41 33 22  3 38 26 24 19 16  9  6 34 10 29 23  2]\n",
      "CAMEO_DEUG_2015 [ 8.  4.  2.  6.  1.  9.  5.  7.  3.]\n",
      "CJT_GESAMTTYP [ 2.  5.  3.  4.  1.  6.]\n",
      "D19_BANKEN_DATUM [10  5  8  6  9  1  7  4  2  3]\n",
      "D19_BANKEN_OFFLINE_DATUM [10  9  8  2  5  4  1  6  7  3]\n",
      "D19_BANKEN_ONLINE_DATUM [10  5  8  6  9  1  4  7  2  3]\n",
      "D19_GESAMT_DATUM [10  1  3  5  9  4  7  6  8  2]\n",
      "D19_GESAMT_OFFLINE_DATUM [10  6  8  9  5  2  4  1  7  3]\n",
      "D19_GESAMT_ONLINE_DATUM [10  1  3  5  9  4  7  6  8  2]\n",
      "D19_KONSUMTYP [ 9.  1.  4.  3.  6.  5.  2.]\n",
      "D19_TELKO_DATUM [10  6  9  8  7  5  4  2  1  3]\n",
      "D19_TELKO_OFFLINE_DATUM [10  8  9  5  6  7  4  2  3  1]\n",
      "D19_TELKO_ONLINE_DATUM [10  9  7  8  6  5  4  1  2  3]\n",
      "D19_VERSAND_DATUM [10  1  5  9  4  8  7  6  3  2]\n",
      "D19_VERSAND_OFFLINE_DATUM [10  9  6  8  5  2  1  4  7  3]\n",
      "D19_VERSAND_ONLINE_DATUM [10  1  5  9  4  8  7  6  3  2]\n",
      "D19_VERSI_DATUM [10  2  8  9  6  7  5  1  4  3]\n",
      "D19_VERSI_OFFLINE_DATUM [10  7  9  6  4  8  5  2  3  1]\n",
      "D19_VERSI_ONLINE_DATUM [10  8  9  5  6  7  4  1  2  3]\n",
      "FINANZTYP [4 1 6 5 2 3]\n",
      "GEBAEUDETYP [ 1.  8.  3.  2.  6.  4.  5.]\n",
      "GFK_URLAUBERTYP [ 10.   1.   5.  12.   9.   3.   8.  11.   4.   2.   7.   6.]\n",
      "GREEN_AVANTGARDE [0 1]\n",
      "KBA05_BAUMAX [ 1.  5.  2.  3.  4.]\n",
      "KK_KUNDENTYP [ 3.  1.  6.  4.  2.  5.]\n",
      "LP_FAMILIE_FEIN [  2.   5.   1.   0.  10.   7.  11.   3.   8.   4.   6.   9.]\n",
      "LP_FAMILIE_GROB [ 2.  3.  1.  0.  5.  4.]\n",
      "LP_STATUS_FEIN [  1.   2.   3.   9.   4.  10.   5.   8.   6.   7.]\n",
      "LP_STATUS_GROB [ 1.  2.  4.  5.  3.]\n",
      "NATIONALITAET_KZ [ 1.  3.  2.]\n",
      "OST_WEST_KZ [ 0.  1.]\n",
      "PLZ8_BAUMAX [ 1.  2.  4.  5.  3.]\n",
      "SHOPPER_TYP [ 1.  3.  2.  0.]\n",
      "SOHO_KZ [ 0.  1.]\n",
      "TITEL_KZ [ 1.  4.  3.  5.  2.]\n",
      "VERS_TYP [ 2.  1.]\n",
      "ZABEOTYP [3 5 4 1 6 2]\n"
     ]
    }
   ],
   "source": [
    "#check if there is any categorical feature that would need engineering\n",
    "\n",
    "selected_categorical = []\n",
    "for cat in categorical:\n",
    "    if cat in azdias:\n",
    "        selected_categorical.append(cat)\n",
    "for i in selected_categorical:\n",
    "    print(i, azdias[i].unique())"
   ]
  },
  {
   "cell_type": "code",
   "execution_count": null,
   "metadata": {},
   "outputs": [],
   "source": []
  },
  {
   "cell_type": "code",
   "execution_count": null,
   "metadata": {},
   "outputs": [],
   "source": []
  },
  {
   "cell_type": "markdown",
   "metadata": {},
   "source": [
    "### Feature Scaling"
   ]
  },
  {
   "cell_type": "code",
   "execution_count": 51,
   "metadata": {},
   "outputs": [],
   "source": [
    "def scaler_tool(df):\n",
    "    '''\n",
    "    This function takes a dataframe of numbers \n",
    "    and transform it through MinMaxScaler.\n",
    "    Args: \n",
    "        df (df) : a dataframe\n",
    "    returns: \n",
    "        res_df (df) : dataframe with scaled values\n",
    "    '''\n",
    "    features_list = df.columns\n",
    "    scaler = MinMaxScaler()\n",
    "    scaler.fit(df)\n",
    "    res_df = pd.DataFrame(scaler.transform(df))\n",
    "    res_df.columns = features_list\n",
    "    \n",
    "    return res_df\n",
    "    "
   ]
  },
  {
   "cell_type": "code",
   "execution_count": 52,
   "metadata": {},
   "outputs": [],
   "source": [
    "azdias = scaler_tool(azdias)"
   ]
  },
  {
   "cell_type": "code",
   "execution_count": 53,
   "metadata": {},
   "outputs": [],
   "source": [
    "customers = scaler_tool(customers)"
   ]
  },
  {
   "cell_type": "markdown",
   "metadata": {},
   "source": [
    "### PCA Analysis"
   ]
  },
  {
   "cell_type": "code",
   "execution_count": 54,
   "metadata": {},
   "outputs": [],
   "source": [
    "def pca_model(df, n_components):\n",
    "    '''\n",
    "    This function defines a model that takes in a previously scaled dataframe and returns the result of \n",
    "    the transformation. The output is an object created post data fitting\n",
    "    Args: \n",
    "        df (df) : a dataframe\n",
    "        n_components (int) : number of components of the dataframe \n",
    "    returns: \n",
    "        model_pca (object) : a pca object fit with the df\n",
    "    '''\n",
    "    pca = PCA(n_components)\n",
    "    model_pca = pca.fit(df)\n",
    "    \n",
    "    return model_pca"
   ]
  },
  {
   "cell_type": "code",
   "execution_count": 55,
   "metadata": {},
   "outputs": [],
   "source": [
    "#explained_variance for PCA\n",
    "def explained_variance_plots(scaler, title):\n",
    "    '''\n",
    "    Function that plots the explained variance sum for each number of\n",
    "    component of the PCA\n",
    "    Args: \n",
    "        scaler (object) : a scaler object\n",
    "        title (str) : name of the dataset we will show in the plot's title \n",
    "    returns: \n",
    "        None\n",
    "    '''\n",
    "    \n",
    "    plt.plot(np.cumsum(scaler.explained_variance_ratio_))\n",
    "    plt.title(title)\n",
    "    plt.xlabel('Number of Components')\n",
    "    plt.ylabel('Explained Variance Ratio')\n",
    "    plt.grid(b=True)\n",
    "\n",
    "    plot = plt.show()"
   ]
  },
  {
   "cell_type": "code",
   "execution_count": 56,
   "metadata": {},
   "outputs": [],
   "source": [
    "n_components_azdias = len(azdias.columns)\n",
    "azdias_pca = pca_model(azdias, n_components_azdias)"
   ]
  },
  {
   "cell_type": "code",
   "execution_count": 57,
   "metadata": {},
   "outputs": [
    {
     "data": {
      "text/plain": [
       "sklearn.decomposition.pca.PCA"
      ]
     },
     "execution_count": 57,
     "metadata": {},
     "output_type": "execute_result"
    }
   ],
   "source": [
    "type(azdias_pca)"
   ]
  },
  {
   "cell_type": "code",
   "execution_count": 58,
   "metadata": {},
   "outputs": [
    {
     "data": {
      "image/png": "[encoded data removed]",
      "text/plain": [
       "<matplotlib.figure.Figure at 0x7f1fb8f72b38>"
      ]
     },
     "metadata": {
      "needs_background": "light"
     },
     "output_type": "display_data"
    }
   ],
   "source": [
    "explained_variance_plots(azdias_pca, 'azdias')"
   ]
  },
  {
   "cell_type": "code",
   "execution_count": null,
   "metadata": {},
   "outputs": [],
   "source": []
  },
  {
   "cell_type": "code",
   "execution_count": null,
   "metadata": {},
   "outputs": [],
   "source": []
  },
  {
   "cell_type": "code",
   "execution_count": null,
   "metadata": {},
   "outputs": [],
   "source": []
  },
  {
   "cell_type": "code",
   "execution_count": null,
   "metadata": {},
   "outputs": [],
   "source": []
  },
  {
   "cell_type": "markdown",
   "metadata": {},
   "source": [
    "## Part 1: Customer Segmentation Report\n",
    "\n",
    "The main bulk of your analysis will come in this part of the project. Here, you should use unsupervised learning techniques to describe the relationship between the demographics of the company's existing customers and the general population of Germany. By the end of this part, you should be able to describe parts of the general population that are more likely to be part of the mail-order company's main customer base, and which parts of the general population are less so."
   ]
  },
  {
   "cell_type": "code",
   "execution_count": 59,
   "metadata": {},
   "outputs": [],
   "source": [
    "pca = PCA(150)\n",
    "azdias_pca = pca.fit_transform(azdias)"
   ]
  },
  {
   "cell_type": "code",
   "execution_count": 60,
   "metadata": {},
   "outputs": [],
   "source": [
    "customers_pca = pca.fit_transform(customers)"
   ]
  },
  {
   "cell_type": "code",
   "execution_count": 61,
   "metadata": {},
   "outputs": [],
   "source": [
    "def optimalK(data, nrefs=3, maxClusters=10):\n",
    "    \"\"\"\n",
    "    Calculates KMeans optimal K using Gap Statistic from Tibshirani, Walther, Hastie\n",
    "    Params:\n",
    "        data: ndarry of shape (n_samples, n_features)\n",
    "        nrefs: number of sample reference datasets to create\n",
    "        maxClusters: Maximum number of clusters to test for\n",
    "    Returns: (gaps, optimalK)\n",
    "    \"\"\"\n",
    "    gaps = np.zeros((len(range(1, maxClusters)),))\n",
    "    resultsdf = pd.DataFrame({'clusterCount':[], 'gap':[]})\n",
    "    for gap_index, k in enumerate(range(1, maxClusters)):\n",
    "        print('k :',k)\n",
    "        # Holder for reference dispersion results\n",
    "        refDisps = np.zeros(nrefs)\n",
    "\n",
    "        # For n references, generate random sample and perform kmeans getting resulting dispersion of each loop\n",
    "        for i in range(nrefs):\n",
    "            \n",
    "            # Create new random reference set\n",
    "            randomReference = np.random.random_sample(size=data.shape)\n",
    "            \n",
    "            # Fit to it\n",
    "            km = KMeans(k)\n",
    "            km.fit(randomReference)\n",
    "            \n",
    "            refDisp = km.inertia_\n",
    "            refDisps[i] = refDisp\n",
    "\n",
    "        # Fit cluster to original data and create dispersion\n",
    "        km = KMeans(k)\n",
    "        km.fit(data)\n",
    "        \n",
    "        origDisp = km.inertia_\n",
    "\n",
    "        # Calculate gap statistic\n",
    "        gap = np.log(np.mean(refDisps)) - np.log(origDisp)\n",
    "\n",
    "        # Assign this loop's gap statistic to gaps\n",
    "        gaps[gap_index] = gap\n",
    "        \n",
    "        resultsdf = resultsdf.append({'clusterCount':k, 'gap':gap}, ignore_index=True)\n",
    "\n",
    "    return (gaps.argmax() + 1, resultsdf)  # Plus 1 because index of 0 means 1 cluster is optimal, index 2 = 3 clusters are optimal"
   ]
  },
  {
   "cell_type": "code",
   "execution_count": 62,
   "metadata": {},
   "outputs": [],
   "source": [
    "def bestK(df):\n",
    "    \"\"\"\n",
    "    Compute the best k with the 1-standard-error method\n",
    "    Params:\n",
    "        df: a DataFrame with gap value for each clusterCount\n",
    "\n",
    "    Returns: (int) best number of clusters\n",
    "    \"\"\"\n",
    "    gap_list = list(df['gap'])\n",
    "    gap_std = statistics.stdev(gap_list)/10\n",
    "\n",
    "    for i in range(1,len(gap_list)):\n",
    "        if gap_list[i] - gap_list[i-1] < gap_std:\n",
    "            return(i-1)\n",
    "        "
   ]
  },
  {
   "cell_type": "code",
   "execution_count": null,
   "metadata": {},
   "outputs": [
    {
     "name": "stdout",
     "output_type": "stream",
     "text": [
      "k : 1\n",
      "k : 2\n",
      "k : 3\n"
     ]
    }
   ],
   "source": [
    "k, gapdf = optimalK(azdias_pca, nrefs=5, maxClusters=15)\n",
    "print('Optimal k is: ', k)"
   ]
  },
  {
   "cell_type": "code",
   "execution_count": null,
   "metadata": {},
   "outputs": [],
   "source": [
    "gapdf"
   ]
  },
  {
   "cell_type": "code",
   "execution_count": null,
   "metadata": {},
   "outputs": [],
   "source": [
    "#Finding the best K with 1 standard error method\n",
    "k = bestK(gapdf)\n",
    "print('Optimal k is:', k)"
   ]
  },
  {
   "cell_type": "code",
   "execution_count": null,
   "metadata": {},
   "outputs": [],
   "source": [
    "plt.plot(gapdf.clusterCount, gapdf.gap, linewidth=3)\n",
    "plt.scatter(gapdf[gapdf.clusterCount == k].clusterCount, gapdf[gapdf.clusterCount == k].gap, s=250, c='r')\n",
    "plt.grid(True)\n",
    "plt.xticks(np.arange(0, 15, 1))\n",
    "plt.xlabel('Cluster Count')\n",
    "plt.ylabel('Gap Value')\n",
    "plt.title('Gap Values by Cluster Count')\n",
    "plt.show()"
   ]
  },
  {
   "cell_type": "markdown",
   "metadata": {},
   "source": [
    "kmeans = KMeans(9)\n",
    "model = kmeans.fit(azdias_pca)"
   ]
  },
  {
   "cell_type": "code",
   "execution_count": null,
   "metadata": {},
   "outputs": [],
   "source": [
    "cluster = pd.DataFrame()\n",
    "cluster['LNR'] = azdias.index.values\n",
    "cluster['cluster'] = model.labels_"
   ]
  },
  {
   "cell_type": "code",
   "execution_count": null,
   "metadata": {},
   "outputs": [],
   "source": [
    "from collections import Counter\n",
    "\n",
    "azdias_labels = kmeans.labels_\n",
    "customers_labels = kmeans.labels_\n",
    "model_feat = list(azdias.columns) \n",
    "cust_feat = list(customers.columns)\n",
    "model_feat_df = pd.DataFrame() \n",
    "model_feat_df['model_feat'] = model_feat"
   ]
  },
  {
   "cell_type": "code",
   "execution_count": null,
   "metadata": {},
   "outputs": [],
   "source": [
    "model_feat_notin_cust = [feat for feat in model_feat if feat not in cust_feat] \n",
    "len(model_feat_notin_cust)\n",
    "\n",
    "customers_labels = kmeans.predict(customers_pca)\n",
    "\n",
    "counts_customer = Counter(customers_labels) \n",
    "n_customers = customers_pca.shape[0]\n",
    "\n",
    "customer_freqs = {label: 100*(freq / n_customers) for label, freq in counts_customer.items()}\n",
    "\n",
    "counts_population = Counter(azdias_labels) \n",
    "n_population = azdias_pca.shape[0]\n",
    "\n",
    "population_freqs = {label: 100*(freq / n_population) for label, freq in counts_population.items()}\n",
    "\n",
    "customer_clusters = pd.DataFrame.from_dict(customer_freqs, orient='index', columns=['% of data']) \n",
    "customer_clusters['Cluster'] = customer_clusters.index \n",
    "customer_clusters['DataSet'] = 'Customers Data' \n",
    "population_clusters = pd.DataFrame.from_dict(population_freqs, orient='index', columns=['% of data']) \n",
    "population_clusters['Cluster'] = population_clusters.index \n",
    "population_clusters['DataSet'] = 'General Population'\n",
    "\n",
    "all_clusters = pd.concat([customer_clusters, population_clusters]) "
   ]
  },
  {
   "cell_type": "code",
   "execution_count": null,
   "metadata": {},
   "outputs": [],
   "source": [
    "sns.catplot(x='Cluster', y='% of data', hue='DataSet', data=all_clusters, kind='bar')\n",
    "plt.show()"
   ]
  },
  {
   "cell_type": "code",
   "execution_count": null,
   "metadata": {},
   "outputs": [],
   "source": []
  },
  {
   "cell_type": "code",
   "execution_count": null,
   "metadata": {},
   "outputs": [],
   "source": []
  },
  {
   "cell_type": "code",
   "execution_count": null,
   "metadata": {},
   "outputs": [],
   "source": []
  },
  {
   "cell_type": "code",
   "execution_count": null,
   "metadata": {},
   "outputs": [],
   "source": []
  },
  {
   "cell_type": "code",
   "execution_count": null,
   "metadata": {},
   "outputs": [],
   "source": []
  },
  {
   "cell_type": "code",
   "execution_count": null,
   "metadata": {},
   "outputs": [],
   "source": []
  },
  {
   "cell_type": "code",
   "execution_count": null,
   "metadata": {},
   "outputs": [],
   "source": []
  },
  {
   "cell_type": "code",
   "execution_count": null,
   "metadata": {},
   "outputs": [],
   "source": []
  },
  {
   "cell_type": "code",
   "execution_count": null,
   "metadata": {},
   "outputs": [],
   "source": []
  },
  {
   "cell_type": "markdown",
   "metadata": {},
   "source": [
    "## Part 2: Supervised Learning Model\n",
    "\n",
    "Now that you've found which parts of the population are more likely to be customers of the mail-order company, it's time to build a prediction model. Each of the rows in the \"MAILOUT\" data files represents an individual that was targeted for a mailout campaign. Ideally, we should be able to use the demographic information from each individual to decide whether or not it will be worth it to include that person in the campaign.\n",
    "\n",
    "The \"MAILOUT\" data has been split into two approximately equal parts, each with almost 43 000 data rows. In this part, you can verify your model with the \"TRAIN\" partition, which includes a column, \"RESPONSE\", that states whether or not a person became a customer of the company following the campaign. In the next part, you'll need to create predictions on the \"TEST\" partition, where the \"RESPONSE\" column has been withheld."
   ]
  },
  {
   "cell_type": "code",
   "execution_count": 15,
   "metadata": {},
   "outputs": [
    {
     "name": "stderr",
     "output_type": "stream",
     "text": [
      "/opt/conda/lib/python3.6/site-packages/IPython/core/interactiveshell.py:2785: DtypeWarning: Columns (18,19) have mixed types. Specify dtype option on import or set low_memory=False.\n",
      "  interactivity=interactivity, compiler=compiler, result=result)\n"
     ]
    }
   ],
   "source": [
    "mailout_train = pd.read_csv('../../data/Term2/capstone/arvato_data/Udacity_MAILOUT_052018_TRAIN.csv', sep=';')"
   ]
  },
  {
   "cell_type": "code",
   "execution_count": 16,
   "metadata": {},
   "outputs": [],
   "source": [
    "#mailout_train.to_csv('mailout_train.csv', sep=',')"
   ]
  },
  {
   "cell_type": "code",
   "execution_count": null,
   "metadata": {},
   "outputs": [],
   "source": [
    "#How much in % is there of response\n",
    "\n",
    "print(len(list(mailout_data.loc[mailout_data['RESPONSE'] == 1].index))/len(mailout_data)*100,\"%\")"
   ]
  },
  {
   "cell_type": "markdown",
   "metadata": {},
   "source": [
    "### It appears that the class are very imbalanced as there is only around 1.24% of response, so the accuracy won't be a good metric to evaluate the model performances"
   ]
  },
  {
   "cell_type": "code",
   "execution_count": null,
   "metadata": {},
   "outputs": [],
   "source": [
    "#Fixing Cameo columns\n",
    "\n",
    "mailout_data = datatype_fix(mailout_data)\n",
    "mailout_test = datatype_fix(mailout_test)"
   ]
  },
  {
   "cell_type": "code",
   "execution_count": null,
   "metadata": {},
   "outputs": [],
   "source": [
    "#Replacing missing/unknowns values with nan\n",
    "\n",
    "missing_to_nans(mailout_data, attributes_unknown)\n",
    "missing_to_nans(mailout_test, attributes_unknown)"
   ]
  },
  {
   "cell_type": "code",
   "execution_count": null,
   "metadata": {},
   "outputs": [],
   "source": [
    "mailout_data_missing = df_missing_pct(mailout_data)"
   ]
  },
  {
   "cell_type": "code",
   "execution_count": null,
   "metadata": {},
   "outputs": [],
   "source": [
    "mailout_test_missing = df_missing_pct(mailout_test)"
   ]
  },
  {
   "cell_type": "code",
   "execution_count": null,
   "metadata": {},
   "outputs": [],
   "source": [
    "mailout_x=[]\n",
    "mailout_y=[]\n",
    "for cap in range(101):\n",
    "    mailout_x.append(cap)\n",
    "    mailout_y.append(len(feature_cap(mailout_data_missing, cap)))"
   ]
  },
  {
   "cell_type": "code",
   "execution_count": null,
   "metadata": {},
   "outputs": [],
   "source": [
    "mailout_test_x=[]\n",
    "mailout_test_y=[]\n",
    "for cap in range(101):\n",
    "    mailout_test_x.append(cap)\n",
    "    mailout_test_y.append(len(feature_cap(mailout_test_missing, cap)))"
   ]
  },
  {
   "cell_type": "code",
   "execution_count": null,
   "metadata": {},
   "outputs": [],
   "source": [
    "plt.plot(mailout_x, mailout_y)\n",
    "plt.xlabel('% of missing value')\n",
    "plt.xticks(np.arange(0, 110, step=10))\n",
    "plt.ylabel('Number of features')\n",
    "plt.title('Mailout')\n",
    "plt.grid(b=True)\n",
    "plt.show()"
   ]
  },
  {
   "cell_type": "code",
   "execution_count": null,
   "metadata": {},
   "outputs": [],
   "source": [
    "plt.plot(mailout_test_x, mailout_test_y)\n",
    "plt.xlabel('% of missing value')\n",
    "plt.xticks(np.arange(0, 110, step=10))\n",
    "plt.ylabel('Number of features')\n",
    "plt.title('Mailout test')\n",
    "plt.grid(b=True)\n",
    "plt.show()"
   ]
  },
  {
   "cell_type": "code",
   "execution_count": null,
   "metadata": {},
   "outputs": [],
   "source": [
    "#Computing the list of columns in mailout_data that have less than 30% of missing values\n",
    "\n",
    "mailout_data_missing = missing_pct(mailout_data)\n",
    "mailout_data_features_selected = feature_cap(mailout_data_missing, 30)"
   ]
  },
  {
   "cell_type": "code",
   "execution_count": null,
   "metadata": {},
   "outputs": [],
   "source": [
    "#Computing the list of columns in mailout_test that have less than 30% of missing values\n",
    "\n",
    "mailout_test_missing = missing_pct(mailout_test)\n",
    "mailout_test_features_selected = feature_cap(mailout_test_missing, 30)"
   ]
  },
  {
   "cell_type": "code",
   "execution_count": null,
   "metadata": {},
   "outputs": [],
   "source": [
    "print(len(mailout_data_features_selected))\n",
    "print(len(mailout_test_features_selected))"
   ]
  },
  {
   "cell_type": "code",
   "execution_count": null,
   "metadata": {},
   "outputs": [],
   "source": [
    "list(set(mailout_data_features_selected) - set(mailout_test_features_selected))"
   ]
  },
  {
   "cell_type": "code",
   "execution_count": null,
   "metadata": {},
   "outputs": [],
   "source": [
    "list(set(mailout_test_features_selected) - set(mailout_data_features_selected))"
   ]
  },
  {
   "cell_type": "code",
   "execution_count": null,
   "metadata": {},
   "outputs": [],
   "source": [
    "mailout_data = mailout_data[mailout_data_features_selected]"
   ]
  },
  {
   "cell_type": "code",
   "execution_count": null,
   "metadata": {},
   "outputs": [],
   "source": [
    "mailout_test = mailout_test[mailout_test_features_selected]"
   ]
  },
  {
   "cell_type": "markdown",
   "metadata": {},
   "source": [
    "So we have the same columns exept for the RESPONSE that is not in the test dataset"
   ]
  },
  {
   "cell_type": "code",
   "execution_count": null,
   "metadata": {},
   "outputs": [],
   "source": [
    "mailout_data = features_engineering(mailout_data)\n",
    "mailout_test = features_engineering(mailout_test)"
   ]
  },
  {
   "cell_type": "code",
   "execution_count": null,
   "metadata": {},
   "outputs": [],
   "source": [
    "mailout_train_X = mailout_data.drop(['RESPONSE'], inplace=False, axis=1)"
   ]
  },
  {
   "cell_type": "code",
   "execution_count": null,
   "metadata": {},
   "outputs": [],
   "source": [
    "mailout_train_y = mailout_data['RESPONSE']"
   ]
  },
  {
   "cell_type": "code",
   "execution_count": null,
   "metadata": {},
   "outputs": [],
   "source": [
    "mailout_train_X = mailout_train_X.drop(['LNR'], inplace=False, axis=1)"
   ]
  },
  {
   "cell_type": "code",
   "execution_count": null,
   "metadata": {},
   "outputs": [],
   "source": [
    "mailout_test_X = mailout_test.drop(['LNR'], inplace=False, axis=1)"
   ]
  },
  {
   "cell_type": "code",
   "execution_count": null,
   "metadata": {},
   "outputs": [],
   "source": [
    "mailout_train_X.shape"
   ]
  },
  {
   "cell_type": "code",
   "execution_count": null,
   "metadata": {},
   "outputs": [],
   "source": [
    "mailout_test_X.shape"
   ]
  },
  {
   "cell_type": "code",
   "execution_count": null,
   "metadata": {},
   "outputs": [],
   "source": [
    "scaler = MinMaxScaler()\n",
    "scaler.fit(mailout_train_X.astype(float))\n",
    "\n",
    "mailout_train_X_scaled = scaler.transform(mailout_train_X)\n",
    "mailout_test_X_scaled = scaler.transform(mailout_test_X)"
   ]
  },
  {
   "cell_type": "code",
   "execution_count": null,
   "metadata": {},
   "outputs": [],
   "source": [
    "seed = 42"
   ]
  },
  {
   "cell_type": "code",
   "execution_count": null,
   "metadata": {},
   "outputs": [],
   "source": [
    "models = [('MLP', MLPClassifier(random_state=seed)),\n",
    "          ('LR', LogisticRegression(solver='liblinear', random_state=seed)),\n",
    "          ('RF', RandomForestClassifier(n_estimators=250, random_state=seed)),\n",
    "          ('LGBM', lgb.LGBMClassifier(random_state=seed)),\n",
    "          ('GB', GradientBoostingClassifier(random_state=seed)),\n",
    "          ('XGB', xgb.XGBClassifier(random_state=seed))]"
   ]
  },
  {
   "cell_type": "code",
   "execution_count": null,
   "metadata": {},
   "outputs": [],
   "source": [
    "def plot_learning_curve(estimator, title, X, y, ylim=None, cv=None,\n",
    "                        n_jobs=1, train_sizes=np.linspace(.1, 1.0, 10)):\n",
    "    \"\"\"\n",
    "    Generate a simple plot of the test and traning learning curve.\n",
    "\n",
    "    Parameters\n",
    "    ----------\n",
    "    estimator : object type that implements the \"fit\" and \"predict\" methods\n",
    "        An object of that type which is cloned for each validation.\n",
    "\n",
    "    title : string\n",
    "        Title for the chart.\n",
    "\n",
    "    X : array-like, shape (n_samples, n_features)\n",
    "        Training vector, where n_samples is the number of samples and\n",
    "        n_features is the number of features.\n",
    "\n",
    "    y : array-like, shape (n_samples) or (n_samples, n_features), optional\n",
    "        Target relative to X for classification or regression;\n",
    "        None for unsupervised learning.\n",
    "\n",
    "    ylim : tuple, shape (ymin, ymax), optional\n",
    "        Defines minimum and maximum yvalues plotted.\n",
    "\n",
    "    cv : integer, cross-validation generator, optional\n",
    "        If an integer is passed, it is the number of folds (defaults to 3).\n",
    "        Specific cross-validation objects can be passed, see\n",
    "        sklearn.cross_validation module for the list of possible objects\n",
    "\n",
    "    n_jobs : integer, optional\n",
    "        Number of jobs to run in parallel (default 1).\n",
    "    \n",
    "    return : float, the test score mean\n",
    "    \"\"\"\n",
    "    plt.figure()\n",
    "    plt.title(\"Learning curve ({})\".format(title))\n",
    "    if ylim is not None:\n",
    "        plt.ylim(*ylim)\n",
    "    plt.xlabel(\"Training examples\")\n",
    "    plt.ylabel(\"Score\")\n",
    "    train_sizes, train_scores, test_scores = learning_curve(\n",
    "        estimator, X, y, cv=cv, n_jobs=n_jobs, train_sizes=train_sizes, scoring = 'roc_auc')\n",
    "    train_scores_mean = np.mean(train_scores, axis=1)\n",
    "    train_scores_std = np.std(train_scores, axis=1)\n",
    "    test_scores_mean = np.mean(test_scores, axis=1)\n",
    "    test_scores_std = np.std(test_scores, axis=1)\n",
    "    plt.grid()\n",
    "\n",
    "    plt.fill_between(train_sizes, train_scores_mean - train_scores_std,\n",
    "                     train_scores_mean + train_scores_std, alpha=0.1,\n",
    "                     color=\"r\")\n",
    "    plt.fill_between(train_sizes, test_scores_mean - test_scores_std,\n",
    "                     test_scores_mean + test_scores_std, alpha=0.1, color=\"g\")\n",
    "    plt.plot(train_sizes, train_scores_mean, 'o-', color=\"r\",\n",
    "             label=\"Training score\")\n",
    "    plt.plot(train_sizes, test_scores_mean, 'o-', color=\"g\",\n",
    "             label=\"Cross-validation score\")\n",
    "\n",
    "    plt.legend(loc=\"best\")\n",
    "    plt.yticks(np.arange(0.20, 1.1, 0.1))\n",
    "    \n",
    "    plt.show()\n",
    "    \n",
    "    return test_scores_mean[-1]"
   ]
  },
  {
   "cell_type": "code",
   "execution_count": null,
   "metadata": {},
   "outputs": [],
   "source": [
    "%%time\n",
    "\n",
    "cv = StratifiedKFold(n_splits=5, random_state=42, shuffle=True)\n",
    "\n",
    "models_list = [\n",
    "    [MLPClassifier(random_state=seed), \"Multilayer Perceptron\"],\n",
    "    [LogisticRegression(solver='liblinear', random_state=seed), \"Logistic Regression\"],\n",
    "    [RandomForestClassifier(n_estimators=200, random_state=seed), \"Random Forest\"],\n",
    "    [lgb.LGBMClassifier(random_state=seed), \"Light GBM\"],\n",
    "    [GradientBoostingClassifier(random_state=seed), \"Gradient Boosting\"],\n",
    "    [xgb.XGBClassifier(random_state=seed), \"XGBoost\"]]\n",
    "\n",
    "score = []\n",
    "model = []\n",
    "for estimator, title in models_list:\n",
    "\n",
    "    score.append(\n",
    "        round(\n",
    "            plot_learning_curve(estimator, title, mailout_train_X_scaled, mailout_train_y, cv=cv, n_jobs=5),3))\n",
    "    model.append(title)\n",
    "    \n",
    "score_pd = pd.DataFrame({'Model':model, 'Score': score})"
   ]
  },
  {
   "cell_type": "code",
   "execution_count": null,
   "metadata": {},
   "outputs": [],
   "source": [
    "score_pd"
   ]
  },
  {
   "cell_type": "code",
   "execution_count": null,
   "metadata": {},
   "outputs": [],
   "source": [
    "bayes_cv_tuner_xg = BayesSearchCV(\n",
    "    estimator = xgb.XGBClassifier(\n",
    "        n_jobs = -1,\n",
    "        objective = 'binary:logistic',\n",
    "        eval_metric = 'auc',\n",
    "        verbosity=1,\n",
    "    ),\n",
    "    search_spaces = {\n",
    "        'booster': ['gbtree','dart'],\n",
    "        'learning_rate': (0.001, 1.0, 'log-uniform'),\n",
    "        'max_depth': (1, 10),\n",
    "        'n_estimators': (10, 500),\n",
    "        'min_child_weight': (1, 10),\n",
    "        'gamma': (0.0, 1.0, 'uniform'),\n",
    "        'subsample': (0.5, 1.0, 'uniform'),\n",
    "        'colsample_bytree': (0.5, 1.0, 'uniform'),\n",
    "        'reg_alpha': (1e-10, 1.0, 'log-uniform'),\n",
    "        'scale_pos_weight': (1,100)\n",
    "        \n",
    "    },    \n",
    "    scoring = 'roc_auc',\n",
    "    cv = StratifiedKFold(\n",
    "        n_splits=5,\n",
    "        shuffle=True,\n",
    "        random_state= seed\n",
    "    ),\n",
    "    n_jobs = -1,\n",
    "    n_iter = 225,   \n",
    "    verbose = 0,\n",
    "    refit = True,\n",
    "    random_state = np.random.RandomState(50)\n",
    ")"
   ]
  },
  {
   "cell_type": "code",
   "execution_count": null,
   "metadata": {},
   "outputs": [],
   "source": [
    "def status_print(optim_result):\n",
    "    \"\"\"Status callback durring bayesian hyperparameter search\"\"\"\n",
    "    \n",
    "    # Get all the models tested so far in DataFrame format },\n",
    "    all_models = pd.DataFrame(bayes_cv_tuner_xg.cv_results_)    \n",
    "    \n",
    "    # Get current parameters and the best parameters    \n",
    "    best_params = pd.Series(bayes_cv_tuner_xg.best_params_)\n",
    "    \n",
    "    print('Model #{}\\nBest ROC-AUC: {}\\nBest params: {}\\n'.format(\n",
    "        len(all_models),\n",
    "        np.round(bayes_cv_tuner_xg.best_score_, 4),\n",
    "        bayes_cv_tuner_xg.best_params_\n",
    "    ))    \n",
    "    \n",
    "    # Save all model results\n",
    "    clf_name = bayes_cv_tuner_xg.estimator.__class__.__name__\n",
    "    all_models.to_csv(clf_name+\"_cv_results.csv\")"
   ]
  },
  {
   "cell_type": "code",
   "execution_count": null,
   "metadata": {},
   "outputs": [],
   "source": [
    "%%time\n",
    "result_xgb = bayes_cv_tuner_xg.fit(mailout_train_X_scaled, mailout_train_y, callback=status_print)"
   ]
  },
  {
   "cell_type": "code",
   "execution_count": null,
   "metadata": {},
   "outputs": [],
   "source": []
  },
  {
   "cell_type": "code",
   "execution_count": null,
   "metadata": {},
   "outputs": [],
   "source": []
  },
  {
   "cell_type": "code",
   "execution_count": null,
   "metadata": {},
   "outputs": [],
   "source": []
  },
  {
   "cell_type": "code",
   "execution_count": null,
   "metadata": {},
   "outputs": [],
   "source": []
  },
  {
   "cell_type": "code",
   "execution_count": null,
   "metadata": {},
   "outputs": [],
   "source": []
  },
  {
   "cell_type": "code",
   "execution_count": null,
   "metadata": {},
   "outputs": [],
   "source": []
  },
  {
   "cell_type": "markdown",
   "metadata": {},
   "source": [
    "## Part 3: Kaggle Competition\n",
    "\n",
    "Now that you've created a model to predict which individuals are most likely to respond to a mailout campaign, it's time to test that model in competition through Kaggle. If you click on the link [here](http://www.kaggle.com/t/21e6d45d4c574c7fa2d868f0e8c83140), you'll be taken to the competition page where, if you have a Kaggle account, you can enter. If you're one of the top performers, you may have the chance to be contacted by a hiring manager from Arvato or Bertelsmann for an interview!\n",
    "\n",
    "Your entry to the competition should be a CSV file with two columns. The first column should be a copy of \"LNR\", which acts as an ID number for each individual in the \"TEST\" partition. The second column, \"RESPONSE\", should be some measure of how likely each individual became a customer – this might not be a straightforward probability. As you should have found in Part 2, there is a large output class imbalance, where most individuals did not respond to the mailout. Thus, predicting individual classes and using accuracy does not seem to be an appropriate performance evaluation method. Instead, the competition will be using AUC to evaluate performance. The exact values of the \"RESPONSE\" column do not matter as much: only that the higher values try to capture as many of the actual customers as possible, early in the ROC curve sweep."
   ]
  },
  {
   "cell_type": "code",
   "execution_count": 13,
   "metadata": {},
   "outputs": [
    {
     "name": "stderr",
     "output_type": "stream",
     "text": [
      "/opt/conda/lib/python3.6/site-packages/IPython/core/interactiveshell.py:2785: DtypeWarning: Columns (18,19) have mixed types. Specify dtype option on import or set low_memory=False.\n",
      "  interactivity=interactivity, compiler=compiler, result=result)\n"
     ]
    }
   ],
   "source": [
    "mailout_test = pd.read_csv('../../data/Term2/capstone/arvato_data/Udacity_MAILOUT_052018_TEST.csv', sep=';')"
   ]
  },
  {
   "cell_type": "code",
   "execution_count": 14,
   "metadata": {},
   "outputs": [],
   "source": [
    "mailout_test.to_csv('mailout_test.csv', sep=',')"
   ]
  },
  {
   "cell_type": "code",
   "execution_count": null,
   "metadata": {},
   "outputs": [],
   "source": [
    "#Best test\n",
    "bayes_xgb = xgb.XGBClassifier(booster='gbtree',\n",
    "                              colsample_bytree=0.5,\n",
    "                              gamma=1.0,\n",
    "                              learning_rate=0.0020276515169578386,\n",
    "                              max_depth=5,\n",
    "                              min_child_weight=10,\n",
    "                              n_estimators=251,\n",
    "                              reg_alpha=1.0,\n",
    "                              scale_pos_weight=34,\n",
    "                              subsample=0.5,\n",
    "                              eval_metric='auc',\n",
    "                              verbosity=1,\n",
    "                              n_jobs=-1)"
   ]
  },
  {
   "cell_type": "code",
   "execution_count": null,
   "metadata": {},
   "outputs": [],
   "source": [
    "bayes_xgb.fit(mailout_train_X_scaled, mailout_train_y)"
   ]
  },
  {
   "cell_type": "code",
   "execution_count": null,
   "metadata": {},
   "outputs": [],
   "source": [
    "feat_imp = pd.Series(bayes_xgb.feature_importances_,\n",
    "                     index=mailout_test_X.columns).sort_values(ascending=False)\n",
    "# plot the 25 most important features\n",
    "fig = plt.figure(figsize=(18, 10))\n",
    "feat_imp.iloc[:25].plot(kind='barh') #, title='Feature Importances')\n",
    "plt.xlabel('Importance', fontsize=12)\n",
    "plt.ylabel('Features', fontsize=12)\n",
    "plt.title('most predictive features')\n",
    "plt.show()"
   ]
  },
  {
   "cell_type": "code",
   "execution_count": null,
   "metadata": {},
   "outputs": [],
   "source": [
    "lnr = pd.DataFrame(mailout_test['LNR'])\n",
    "pred = bayes_xgb.predict_proba(mailout_test_X_scaled)[:,1]\n",
    "pred = pd.DataFrame(pred)\n",
    "sub = pd.concat([lnr,pred], axis=1)"
   ]
  },
  {
   "cell_type": "code",
   "execution_count": null,
   "metadata": {},
   "outputs": [],
   "source": [
    "sub = sub.loc[~np.isnan(sub['LNR'])]"
   ]
  },
  {
   "cell_type": "code",
   "execution_count": null,
   "metadata": {},
   "outputs": [],
   "source": [
    "#change LNR column type from float to int\n",
    "sub['LNR'] = sub['LNR'].astype(int)\n",
    "sub = sub.rename(columns={0: \"RESPONSE\"})\n",
    "sub.set_index('LNR', inplace = True)"
   ]
  },
  {
   "cell_type": "code",
   "execution_count": null,
   "metadata": {},
   "outputs": [],
   "source": [
    "sub.to_csv('submission.csv')"
   ]
  },
  {
   "cell_type": "code",
   "execution_count": null,
   "metadata": {},
   "outputs": [],
   "source": []
  },
  {
   "cell_type": "code",
   "execution_count": null,
   "metadata": {},
   "outputs": [],
   "source": []
  },
  {
   "cell_type": "code",
   "execution_count": null,
   "metadata": {},
   "outputs": [],
   "source": []
  }
 ],
 "metadata": {
  "kernelspec": {
   "display_name": "Python 3",
   "language": "python",
   "name": "python3"
  },
  "language_info": {
   "codemirror_mode": {
    "name": "ipython",
    "version": 3
   },
   "file_extension": ".py",
   "mimetype": "text/x-python",
   "name": "python",
   "nbconvert_exporter": "python",
   "pygments_lexer": "ipython3",
   "version": "3.6.3"
  }
 },
 "nbformat": 4,
 "nbformat_minor": 2
}
